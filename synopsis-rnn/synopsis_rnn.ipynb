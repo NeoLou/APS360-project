{
 "cells": [
  {
   "cell_type": "code",
   "execution_count": 1,
   "metadata": {},
   "outputs": [
    {
     "name": "stdout",
     "output_type": "stream",
     "text": [
      "/Users/adil.quettawala/Documents/APS360/Project/APS360-project\n"
     ]
    }
   ],
   "source": [
    "cd .."
   ]
  },
  {
   "cell_type": "code",
   "execution_count": 2,
   "metadata": {
    "scrolled": true,
    "vscode": {
     "languageId": "plaintext"
    }
   },
   "outputs": [],
   "source": [
    "import torch\n",
    "import torch.nn as nn\n",
    "import pandas as pd\n",
    "from common import model\n",
    "from common import evaluate\n",
    "from torch.utils.data import Dataset, DataLoader\n",
    "\n",
    "from synopsis_rnn import *"
   ]
  },
  {
   "cell_type": "code",
   "execution_count": 3,
   "metadata": {},
   "outputs": [],
   "source": [
    "# separate out test set\n",
    "# df = pd.read_csv('data_collection/data/balanced_animes_data_max_rank=5000.csv')\n",
    "dataset='data_collection/data/balanced_animes_data_max_no_test'"
   ]
  },
  {
   "cell_type": "code",
   "execution_count": 4,
   "metadata": {},
   "outputs": [],
   "source": [
    "# from common import separate_test\n",
    "# test_ids = open(f'common/test_ids.txt', 'r').read()\n",
    "# test_ids = test_ids.strip('[]')\n",
    "# test_ids = test_ids.split(', ')\n",
    "# df_test, df_data_new = separate_test.get_test_dataframe(df, test_ids)"
   ]
  },
  {
   "cell_type": "code",
   "execution_count": 5,
   "metadata": {},
   "outputs": [],
   "source": [
    "# df_test.to_csv('data_collection/data/test_df')\n",
    "# df_data_new.to_csv('data_collection/data/balanced_animes_data_max_no_test')"
   ]
  },
  {
   "cell_type": "code",
   "execution_count": null,
   "metadata": {
    "colab": {
     "base_uri": "https://localhost:8080/",
     "height": 689
    },
    "id": "whN84YGkiI6b",
    "outputId": "4e5b2797-ff1e-48c7-8473-6267e0bdb8ac",
    "scrolled": true
   },
   "outputs": [],
   "source": [
    "#This function allows us to loop through the data to train on three different BATCH SIZES\n",
    "for b in [32, 64, 128]:\n",
    "    rnn_test = RNN('RNNb', batch_size=b)\n",
    "    train, val, max_len = get_data_loaders(dataset, rnn_test.batch_size)\n",
    "    model.train_model(rnn_test, train, val)"
   ]
  },
  {
   "cell_type": "markdown",
   "metadata": {
    "id": "fvMqzvEdiav1"
   },
   "source": [
    "#Tuning Number of Layers"
   ]
  },
  {
   "cell_type": "code",
   "execution_count": 4,
   "metadata": {
    "colab": {
     "base_uri": "https://localhost:8080/",
     "height": 637
    },
    "id": "0EwzjomYieIE",
    "outputId": "44538540-694f-4113-c4a1-01746d44f1f6",
    "scrolled": true
   },
   "outputs": [
    {
     "name": "stdout",
     "output_type": "stream",
     "text": [
      "100\n"
     ]
    },
    {
     "name": "stderr",
     "output_type": "stream",
     "text": [
      "/Users/adil.quettawala/Documents/APS360/Project/APS360-project/synopsis-rnn/synopsis_rnn.py:78: SettingWithCopyWarning: \n",
      "A value is trying to be set on a copy of a slice from a DataFrame.\n",
      "Try using .loc[row_indexer,col_indexer] = value instead\n",
      "\n",
      "See the caveats in the documentation: https://pandas.pydata.org/pandas-docs/stable/user_guide/indexing.html#returning-a-view-versus-a-copy\n",
      "  df['popularity'] = (df['popularity'] - df['popularity'].min()) / (df['popularity'].max() - df['popularity'].min())\n",
      "/Users/adil.quettawala/Documents/APS360/Project/APS360-project/synopsis-rnn/synopsis_rnn.py:95: SettingWithCopyWarning: \n",
      "A value is trying to be set on a copy of a slice from a DataFrame.\n",
      "Try using .loc[row_indexer,col_indexer] = value instead\n",
      "\n",
      "See the caveats in the documentation: https://pandas.pydata.org/pandas-docs/stable/user_guide/indexing.html#returning-a-view-versus-a-copy\n",
      "  df['synopsis'] = df['synopsis'].map(process_example)\n",
      "/Users/adil.quettawala/.virtualenvs/aps360/lib/python3.9/site-packages/torch/nn/modules/loss.py:536: UserWarning: Using a target size (torch.Size([64])) that is different to the input size (torch.Size([64, 1])). This will likely lead to incorrect results due to broadcasting. Please ensure they have the same size.\n",
      "  return F.mse_loss(input, target, reduction=self.reduction)\n",
      "/Users/adil.quettawala/.virtualenvs/aps360/lib/python3.9/site-packages/torch/nn/modules/loss.py:536: UserWarning: Using a target size (torch.Size([28])) that is different to the input size (torch.Size([28, 1])). This will likely lead to incorrect results due to broadcasting. Please ensure they have the same size.\n",
      "  return F.mse_loss(input, target, reduction=self.reduction)\n",
      "/Users/adil.quettawala/.virtualenvs/aps360/lib/python3.9/site-packages/torch/nn/modules/loss.py:536: UserWarning: Using a target size (torch.Size([39])) that is different to the input size (torch.Size([39, 1])). This will likely lead to incorrect results due to broadcasting. Please ensure they have the same size.\n",
      "  return F.mse_loss(input, target, reduction=self.reduction)\n"
     ]
    },
    {
     "name": "stdout",
     "output_type": "stream",
     "text": [
      "100\n"
     ]
    },
    {
     "name": "stderr",
     "output_type": "stream",
     "text": [
      "/Users/adil.quettawala/Documents/APS360/Project/APS360-project/synopsis-rnn/synopsis_rnn.py:78: SettingWithCopyWarning: \n",
      "A value is trying to be set on a copy of a slice from a DataFrame.\n",
      "Try using .loc[row_indexer,col_indexer] = value instead\n",
      "\n",
      "See the caveats in the documentation: https://pandas.pydata.org/pandas-docs/stable/user_guide/indexing.html#returning-a-view-versus-a-copy\n",
      "  df['popularity'] = (df['popularity'] - df['popularity'].min()) / (df['popularity'].max() - df['popularity'].min())\n",
      "/Users/adil.quettawala/Documents/APS360/Project/APS360-project/synopsis-rnn/synopsis_rnn.py:95: SettingWithCopyWarning: \n",
      "A value is trying to be set on a copy of a slice from a DataFrame.\n",
      "Try using .loc[row_indexer,col_indexer] = value instead\n",
      "\n",
      "See the caveats in the documentation: https://pandas.pydata.org/pandas-docs/stable/user_guide/indexing.html#returning-a-view-versus-a-copy\n",
      "  df['synopsis'] = df['synopsis'].map(process_example)\n",
      "/Users/adil.quettawala/.virtualenvs/aps360/lib/python3.9/site-packages/torch/nn/modules/loss.py:536: UserWarning: Using a target size (torch.Size([64])) that is different to the input size (torch.Size([64, 1])). This will likely lead to incorrect results due to broadcasting. Please ensure they have the same size.\n",
      "  return F.mse_loss(input, target, reduction=self.reduction)\n",
      "/Users/adil.quettawala/.virtualenvs/aps360/lib/python3.9/site-packages/torch/nn/modules/loss.py:536: UserWarning: Using a target size (torch.Size([28])) that is different to the input size (torch.Size([28, 1])). This will likely lead to incorrect results due to broadcasting. Please ensure they have the same size.\n",
      "  return F.mse_loss(input, target, reduction=self.reduction)\n",
      "/Users/adil.quettawala/.virtualenvs/aps360/lib/python3.9/site-packages/torch/nn/modules/loss.py:536: UserWarning: Using a target size (torch.Size([39])) that is different to the input size (torch.Size([39, 1])). This will likely lead to incorrect results due to broadcasting. Please ensure they have the same size.\n",
      "  return F.mse_loss(input, target, reduction=self.reduction)\n"
     ]
    },
    {
     "name": "stdout",
     "output_type": "stream",
     "text": [
      "100\n"
     ]
    },
    {
     "name": "stderr",
     "output_type": "stream",
     "text": [
      "/Users/adil.quettawala/Documents/APS360/Project/APS360-project/synopsis-rnn/synopsis_rnn.py:78: SettingWithCopyWarning: \n",
      "A value is trying to be set on a copy of a slice from a DataFrame.\n",
      "Try using .loc[row_indexer,col_indexer] = value instead\n",
      "\n",
      "See the caveats in the documentation: https://pandas.pydata.org/pandas-docs/stable/user_guide/indexing.html#returning-a-view-versus-a-copy\n",
      "  df['popularity'] = (df['popularity'] - df['popularity'].min()) / (df['popularity'].max() - df['popularity'].min())\n",
      "/Users/adil.quettawala/Documents/APS360/Project/APS360-project/synopsis-rnn/synopsis_rnn.py:95: SettingWithCopyWarning: \n",
      "A value is trying to be set on a copy of a slice from a DataFrame.\n",
      "Try using .loc[row_indexer,col_indexer] = value instead\n",
      "\n",
      "See the caveats in the documentation: https://pandas.pydata.org/pandas-docs/stable/user_guide/indexing.html#returning-a-view-versus-a-copy\n",
      "  df['synopsis'] = df['synopsis'].map(process_example)\n",
      "/Users/adil.quettawala/.virtualenvs/aps360/lib/python3.9/site-packages/torch/nn/modules/loss.py:536: UserWarning: Using a target size (torch.Size([64])) that is different to the input size (torch.Size([64, 1])). This will likely lead to incorrect results due to broadcasting. Please ensure they have the same size.\n",
      "  return F.mse_loss(input, target, reduction=self.reduction)\n",
      "/Users/adil.quettawala/.virtualenvs/aps360/lib/python3.9/site-packages/torch/nn/modules/loss.py:536: UserWarning: Using a target size (torch.Size([28])) that is different to the input size (torch.Size([28, 1])). This will likely lead to incorrect results due to broadcasting. Please ensure they have the same size.\n",
      "  return F.mse_loss(input, target, reduction=self.reduction)\n",
      "/Users/adil.quettawala/.virtualenvs/aps360/lib/python3.9/site-packages/torch/nn/modules/loss.py:536: UserWarning: Using a target size (torch.Size([39])) that is different to the input size (torch.Size([39, 1])). This will likely lead to incorrect results due to broadcasting. Please ensure they have the same size.\n",
      "  return F.mse_loss(input, target, reduction=self.reduction)\n"
     ]
    }
   ],
   "source": [
    "#READY TO RUN\n",
    "#This function allows us to loop through the data to train on three different NUMBER OF LAYERS\n",
    "for l in [2, 4, 8]:\n",
    "    rnn_test = RNN('RNNl', n_layers=l)\n",
    "    print(rnn_test.num_epochs)\n",
    "    train, val, max_len = get_data_loaders(dataset, rnn_test.batch_size)\n",
    "    model.train_model(rnn_test, train, val)"
   ]
  },
  {
   "cell_type": "markdown",
   "metadata": {
    "id": "hlcmJiBM8y5v"
   },
   "source": [
    "#DO NOT CLOSE COLAB WITHOUT DOWNLOADING THE MODEL WEIGHTS"
   ]
  },
  {
   "cell_type": "markdown",
   "metadata": {
    "id": "rY0KT8By99Re"
   },
   "source": [
    "#Tuning the learning rate"
   ]
  },
  {
   "cell_type": "code",
   "execution_count": 5,
   "metadata": {
    "id": "Cj7xdPLb9-oq",
    "scrolled": true
   },
   "outputs": [
    {
     "name": "stderr",
     "output_type": "stream",
     "text": [
      "/Users/adil.quettawala/Documents/APS360/Project/APS360-project/synopsis-rnn/synopsis_rnn.py:78: SettingWithCopyWarning: \n",
      "A value is trying to be set on a copy of a slice from a DataFrame.\n",
      "Try using .loc[row_indexer,col_indexer] = value instead\n",
      "\n",
      "See the caveats in the documentation: https://pandas.pydata.org/pandas-docs/stable/user_guide/indexing.html#returning-a-view-versus-a-copy\n",
      "  df['popularity'] = (df['popularity'] - df['popularity'].min()) / (df['popularity'].max() - df['popularity'].min())\n",
      "/Users/adil.quettawala/Documents/APS360/Project/APS360-project/synopsis-rnn/synopsis_rnn.py:95: SettingWithCopyWarning: \n",
      "A value is trying to be set on a copy of a slice from a DataFrame.\n",
      "Try using .loc[row_indexer,col_indexer] = value instead\n",
      "\n",
      "See the caveats in the documentation: https://pandas.pydata.org/pandas-docs/stable/user_guide/indexing.html#returning-a-view-versus-a-copy\n",
      "  df['synopsis'] = df['synopsis'].map(process_example)\n",
      "/Users/adil.quettawala/.virtualenvs/aps360/lib/python3.9/site-packages/torch/nn/modules/loss.py:536: UserWarning: Using a target size (torch.Size([64])) that is different to the input size (torch.Size([64, 1])). This will likely lead to incorrect results due to broadcasting. Please ensure they have the same size.\n",
      "  return F.mse_loss(input, target, reduction=self.reduction)\n",
      "/Users/adil.quettawala/.virtualenvs/aps360/lib/python3.9/site-packages/torch/nn/modules/loss.py:536: UserWarning: Using a target size (torch.Size([28])) that is different to the input size (torch.Size([28, 1])). This will likely lead to incorrect results due to broadcasting. Please ensure they have the same size.\n",
      "  return F.mse_loss(input, target, reduction=self.reduction)\n",
      "/Users/adil.quettawala/.virtualenvs/aps360/lib/python3.9/site-packages/torch/nn/modules/loss.py:536: UserWarning: Using a target size (torch.Size([39])) that is different to the input size (torch.Size([39, 1])). This will likely lead to incorrect results due to broadcasting. Please ensure they have the same size.\n",
      "  return F.mse_loss(input, target, reduction=self.reduction)\n",
      "/Users/adil.quettawala/Documents/APS360/Project/APS360-project/synopsis-rnn/synopsis_rnn.py:78: SettingWithCopyWarning: \n",
      "A value is trying to be set on a copy of a slice from a DataFrame.\n",
      "Try using .loc[row_indexer,col_indexer] = value instead\n",
      "\n",
      "See the caveats in the documentation: https://pandas.pydata.org/pandas-docs/stable/user_guide/indexing.html#returning-a-view-versus-a-copy\n",
      "  df['popularity'] = (df['popularity'] - df['popularity'].min()) / (df['popularity'].max() - df['popularity'].min())\n",
      "/Users/adil.quettawala/Documents/APS360/Project/APS360-project/synopsis-rnn/synopsis_rnn.py:95: SettingWithCopyWarning: \n",
      "A value is trying to be set on a copy of a slice from a DataFrame.\n",
      "Try using .loc[row_indexer,col_indexer] = value instead\n",
      "\n",
      "See the caveats in the documentation: https://pandas.pydata.org/pandas-docs/stable/user_guide/indexing.html#returning-a-view-versus-a-copy\n",
      "  df['synopsis'] = df['synopsis'].map(process_example)\n",
      "/Users/adil.quettawala/.virtualenvs/aps360/lib/python3.9/site-packages/torch/nn/modules/loss.py:536: UserWarning: Using a target size (torch.Size([64])) that is different to the input size (torch.Size([64, 1])). This will likely lead to incorrect results due to broadcasting. Please ensure they have the same size.\n",
      "  return F.mse_loss(input, target, reduction=self.reduction)\n",
      "/Users/adil.quettawala/.virtualenvs/aps360/lib/python3.9/site-packages/torch/nn/modules/loss.py:536: UserWarning: Using a target size (torch.Size([28])) that is different to the input size (torch.Size([28, 1])). This will likely lead to incorrect results due to broadcasting. Please ensure they have the same size.\n",
      "  return F.mse_loss(input, target, reduction=self.reduction)\n",
      "/Users/adil.quettawala/.virtualenvs/aps360/lib/python3.9/site-packages/torch/nn/modules/loss.py:536: UserWarning: Using a target size (torch.Size([39])) that is different to the input size (torch.Size([39, 1])). This will likely lead to incorrect results due to broadcasting. Please ensure they have the same size.\n",
      "  return F.mse_loss(input, target, reduction=self.reduction)\n",
      "/Users/adil.quettawala/Documents/APS360/Project/APS360-project/synopsis-rnn/synopsis_rnn.py:78: SettingWithCopyWarning: \n",
      "A value is trying to be set on a copy of a slice from a DataFrame.\n",
      "Try using .loc[row_indexer,col_indexer] = value instead\n",
      "\n",
      "See the caveats in the documentation: https://pandas.pydata.org/pandas-docs/stable/user_guide/indexing.html#returning-a-view-versus-a-copy\n",
      "  df['popularity'] = (df['popularity'] - df['popularity'].min()) / (df['popularity'].max() - df['popularity'].min())\n",
      "/Users/adil.quettawala/Documents/APS360/Project/APS360-project/synopsis-rnn/synopsis_rnn.py:95: SettingWithCopyWarning: \n",
      "A value is trying to be set on a copy of a slice from a DataFrame.\n",
      "Try using .loc[row_indexer,col_indexer] = value instead\n",
      "\n",
      "See the caveats in the documentation: https://pandas.pydata.org/pandas-docs/stable/user_guide/indexing.html#returning-a-view-versus-a-copy\n",
      "  df['synopsis'] = df['synopsis'].map(process_example)\n",
      "/Users/adil.quettawala/.virtualenvs/aps360/lib/python3.9/site-packages/torch/nn/modules/loss.py:536: UserWarning: Using a target size (torch.Size([64])) that is different to the input size (torch.Size([64, 1])). This will likely lead to incorrect results due to broadcasting. Please ensure they have the same size.\n",
      "  return F.mse_loss(input, target, reduction=self.reduction)\n",
      "/Users/adil.quettawala/.virtualenvs/aps360/lib/python3.9/site-packages/torch/nn/modules/loss.py:536: UserWarning: Using a target size (torch.Size([28])) that is different to the input size (torch.Size([28, 1])). This will likely lead to incorrect results due to broadcasting. Please ensure they have the same size.\n",
      "  return F.mse_loss(input, target, reduction=self.reduction)\n",
      "/Users/adil.quettawala/.virtualenvs/aps360/lib/python3.9/site-packages/torch/nn/modules/loss.py:536: UserWarning: Using a target size (torch.Size([39])) that is different to the input size (torch.Size([39, 1])). This will likely lead to incorrect results due to broadcasting. Please ensure they have the same size.\n",
      "  return F.mse_loss(input, target, reduction=self.reduction)\n"
     ]
    }
   ],
   "source": [
    "#This function allows us to loop through the data to train on three different LEARNING RATES\n",
    "for lr in [0.01, 0.05, 0.1]:\n",
    "    rnn_test = RNN('RNNlr', lr=lr)\n",
    "    train, val, max_len = get_data_loaders(dataset, rnn_test.batch_size)\n",
    "    model.train_model(rnn_test, train, val)"
   ]
  },
  {
   "cell_type": "markdown",
   "metadata": {
    "id": "2MX-buPg-V_Y"
   },
   "source": [
    "#Tuning the dropout rates"
   ]
  },
  {
   "cell_type": "code",
   "execution_count": 6,
   "metadata": {
    "id": "KHdyhDvm-VAe",
    "scrolled": true
   },
   "outputs": [
    {
     "name": "stderr",
     "output_type": "stream",
     "text": [
      "/Users/adil.quettawala/Documents/APS360/Project/APS360-project/synopsis-rnn/synopsis_rnn.py:78: SettingWithCopyWarning: \n",
      "A value is trying to be set on a copy of a slice from a DataFrame.\n",
      "Try using .loc[row_indexer,col_indexer] = value instead\n",
      "\n",
      "See the caveats in the documentation: https://pandas.pydata.org/pandas-docs/stable/user_guide/indexing.html#returning-a-view-versus-a-copy\n",
      "  df['popularity'] = (df['popularity'] - df['popularity'].min()) / (df['popularity'].max() - df['popularity'].min())\n",
      "/Users/adil.quettawala/Documents/APS360/Project/APS360-project/synopsis-rnn/synopsis_rnn.py:95: SettingWithCopyWarning: \n",
      "A value is trying to be set on a copy of a slice from a DataFrame.\n",
      "Try using .loc[row_indexer,col_indexer] = value instead\n",
      "\n",
      "See the caveats in the documentation: https://pandas.pydata.org/pandas-docs/stable/user_guide/indexing.html#returning-a-view-versus-a-copy\n",
      "  df['synopsis'] = df['synopsis'].map(process_example)\n",
      "/Users/adil.quettawala/.virtualenvs/aps360/lib/python3.9/site-packages/torch/nn/modules/loss.py:536: UserWarning: Using a target size (torch.Size([64])) that is different to the input size (torch.Size([64, 1])). This will likely lead to incorrect results due to broadcasting. Please ensure they have the same size.\n",
      "  return F.mse_loss(input, target, reduction=self.reduction)\n",
      "/Users/adil.quettawala/.virtualenvs/aps360/lib/python3.9/site-packages/torch/nn/modules/loss.py:536: UserWarning: Using a target size (torch.Size([28])) that is different to the input size (torch.Size([28, 1])). This will likely lead to incorrect results due to broadcasting. Please ensure they have the same size.\n",
      "  return F.mse_loss(input, target, reduction=self.reduction)\n",
      "/Users/adil.quettawala/.virtualenvs/aps360/lib/python3.9/site-packages/torch/nn/modules/loss.py:536: UserWarning: Using a target size (torch.Size([39])) that is different to the input size (torch.Size([39, 1])). This will likely lead to incorrect results due to broadcasting. Please ensure they have the same size.\n",
      "  return F.mse_loss(input, target, reduction=self.reduction)\n",
      "/Users/adil.quettawala/.virtualenvs/aps360/lib/python3.9/site-packages/torch/nn/modules/rnn.py:71: UserWarning: dropout option adds dropout after all but last recurrent layer, so non-zero dropout expects num_layers greater than 1, but got dropout=0.5 and num_layers=1\n",
      "  warnings.warn(\"dropout option adds dropout after all but last \"\n",
      "/Users/adil.quettawala/Documents/APS360/Project/APS360-project/synopsis-rnn/synopsis_rnn.py:78: SettingWithCopyWarning: \n",
      "A value is trying to be set on a copy of a slice from a DataFrame.\n",
      "Try using .loc[row_indexer,col_indexer] = value instead\n",
      "\n",
      "See the caveats in the documentation: https://pandas.pydata.org/pandas-docs/stable/user_guide/indexing.html#returning-a-view-versus-a-copy\n",
      "  df['popularity'] = (df['popularity'] - df['popularity'].min()) / (df['popularity'].max() - df['popularity'].min())\n",
      "/Users/adil.quettawala/Documents/APS360/Project/APS360-project/synopsis-rnn/synopsis_rnn.py:95: SettingWithCopyWarning: \n",
      "A value is trying to be set on a copy of a slice from a DataFrame.\n",
      "Try using .loc[row_indexer,col_indexer] = value instead\n",
      "\n",
      "See the caveats in the documentation: https://pandas.pydata.org/pandas-docs/stable/user_guide/indexing.html#returning-a-view-versus-a-copy\n",
      "  df['synopsis'] = df['synopsis'].map(process_example)\n",
      "/Users/adil.quettawala/.virtualenvs/aps360/lib/python3.9/site-packages/torch/nn/modules/loss.py:536: UserWarning: Using a target size (torch.Size([64])) that is different to the input size (torch.Size([64, 1])). This will likely lead to incorrect results due to broadcasting. Please ensure they have the same size.\n",
      "  return F.mse_loss(input, target, reduction=self.reduction)\n",
      "/Users/adil.quettawala/.virtualenvs/aps360/lib/python3.9/site-packages/torch/nn/modules/loss.py:536: UserWarning: Using a target size (torch.Size([28])) that is different to the input size (torch.Size([28, 1])). This will likely lead to incorrect results due to broadcasting. Please ensure they have the same size.\n",
      "  return F.mse_loss(input, target, reduction=self.reduction)\n",
      "/Users/adil.quettawala/.virtualenvs/aps360/lib/python3.9/site-packages/torch/nn/modules/loss.py:536: UserWarning: Using a target size (torch.Size([39])) that is different to the input size (torch.Size([39, 1])). This will likely lead to incorrect results due to broadcasting. Please ensure they have the same size.\n",
      "  return F.mse_loss(input, target, reduction=self.reduction)\n",
      "/Users/adil.quettawala/.virtualenvs/aps360/lib/python3.9/site-packages/torch/nn/modules/rnn.py:71: UserWarning: dropout option adds dropout after all but last recurrent layer, so non-zero dropout expects num_layers greater than 1, but got dropout=0.8 and num_layers=1\n",
      "  warnings.warn(\"dropout option adds dropout after all but last \"\n",
      "/Users/adil.quettawala/Documents/APS360/Project/APS360-project/synopsis-rnn/synopsis_rnn.py:78: SettingWithCopyWarning: \n",
      "A value is trying to be set on a copy of a slice from a DataFrame.\n",
      "Try using .loc[row_indexer,col_indexer] = value instead\n",
      "\n",
      "See the caveats in the documentation: https://pandas.pydata.org/pandas-docs/stable/user_guide/indexing.html#returning-a-view-versus-a-copy\n",
      "  df['popularity'] = (df['popularity'] - df['popularity'].min()) / (df['popularity'].max() - df['popularity'].min())\n",
      "/Users/adil.quettawala/Documents/APS360/Project/APS360-project/synopsis-rnn/synopsis_rnn.py:95: SettingWithCopyWarning: \n",
      "A value is trying to be set on a copy of a slice from a DataFrame.\n",
      "Try using .loc[row_indexer,col_indexer] = value instead\n",
      "\n",
      "See the caveats in the documentation: https://pandas.pydata.org/pandas-docs/stable/user_guide/indexing.html#returning-a-view-versus-a-copy\n",
      "  df['synopsis'] = df['synopsis'].map(process_example)\n",
      "/Users/adil.quettawala/.virtualenvs/aps360/lib/python3.9/site-packages/torch/nn/modules/loss.py:536: UserWarning: Using a target size (torch.Size([64])) that is different to the input size (torch.Size([64, 1])). This will likely lead to incorrect results due to broadcasting. Please ensure they have the same size.\n",
      "  return F.mse_loss(input, target, reduction=self.reduction)\n",
      "/Users/adil.quettawala/.virtualenvs/aps360/lib/python3.9/site-packages/torch/nn/modules/loss.py:536: UserWarning: Using a target size (torch.Size([28])) that is different to the input size (torch.Size([28, 1])). This will likely lead to incorrect results due to broadcasting. Please ensure they have the same size.\n",
      "  return F.mse_loss(input, target, reduction=self.reduction)\n",
      "/Users/adil.quettawala/.virtualenvs/aps360/lib/python3.9/site-packages/torch/nn/modules/loss.py:536: UserWarning: Using a target size (torch.Size([39])) that is different to the input size (torch.Size([39, 1])). This will likely lead to incorrect results due to broadcasting. Please ensure they have the same size.\n",
      "  return F.mse_loss(input, target, reduction=self.reduction)\n"
     ]
    }
   ],
   "source": [
    "#This function allows us to loop through the data to train on three different DROPOUT RATES\n",
    "for d in [0.0, 0.5, 0.8]:\n",
    "    rnn_test = RNN('RRNd', dropout=d)\n",
    "    train, val, max_len = get_data_loaders(dataset, rnn_test.batch_size)\n",
    "    model.train_model(rnn_test, train, val)"
   ]
  },
  {
   "cell_type": "markdown",
   "metadata": {
    "id": "yMTXEwQqikjZ"
   },
   "source": [
    "#Tuning bidirectional vs not bidirectional"
   ]
  },
  {
   "cell_type": "code",
   "execution_count": 7,
   "metadata": {
    "id": "aeohIU3SipO2",
    "scrolled": true
   },
   "outputs": [
    {
     "name": "stderr",
     "output_type": "stream",
     "text": [
      "/Users/adil.quettawala/Documents/APS360/Project/APS360-project/synopsis-rnn/synopsis_rnn.py:78: SettingWithCopyWarning: \n",
      "A value is trying to be set on a copy of a slice from a DataFrame.\n",
      "Try using .loc[row_indexer,col_indexer] = value instead\n",
      "\n",
      "See the caveats in the documentation: https://pandas.pydata.org/pandas-docs/stable/user_guide/indexing.html#returning-a-view-versus-a-copy\n",
      "  df['popularity'] = (df['popularity'] - df['popularity'].min()) / (df['popularity'].max() - df['popularity'].min())\n",
      "/Users/adil.quettawala/Documents/APS360/Project/APS360-project/synopsis-rnn/synopsis_rnn.py:95: SettingWithCopyWarning: \n",
      "A value is trying to be set on a copy of a slice from a DataFrame.\n",
      "Try using .loc[row_indexer,col_indexer] = value instead\n",
      "\n",
      "See the caveats in the documentation: https://pandas.pydata.org/pandas-docs/stable/user_guide/indexing.html#returning-a-view-versus-a-copy\n",
      "  df['synopsis'] = df['synopsis'].map(process_example)\n",
      "/Users/adil.quettawala/.virtualenvs/aps360/lib/python3.9/site-packages/torch/nn/modules/loss.py:536: UserWarning: Using a target size (torch.Size([64])) that is different to the input size (torch.Size([64, 1])). This will likely lead to incorrect results due to broadcasting. Please ensure they have the same size.\n",
      "  return F.mse_loss(input, target, reduction=self.reduction)\n",
      "/Users/adil.quettawala/.virtualenvs/aps360/lib/python3.9/site-packages/torch/nn/modules/loss.py:536: UserWarning: Using a target size (torch.Size([28])) that is different to the input size (torch.Size([28, 1])). This will likely lead to incorrect results due to broadcasting. Please ensure they have the same size.\n",
      "  return F.mse_loss(input, target, reduction=self.reduction)\n",
      "/Users/adil.quettawala/.virtualenvs/aps360/lib/python3.9/site-packages/torch/nn/modules/loss.py:536: UserWarning: Using a target size (torch.Size([39])) that is different to the input size (torch.Size([39, 1])). This will likely lead to incorrect results due to broadcasting. Please ensure they have the same size.\n",
      "  return F.mse_loss(input, target, reduction=self.reduction)\n",
      "/Users/adil.quettawala/Documents/APS360/Project/APS360-project/synopsis-rnn/synopsis_rnn.py:78: SettingWithCopyWarning: \n",
      "A value is trying to be set on a copy of a slice from a DataFrame.\n",
      "Try using .loc[row_indexer,col_indexer] = value instead\n",
      "\n",
      "See the caveats in the documentation: https://pandas.pydata.org/pandas-docs/stable/user_guide/indexing.html#returning-a-view-versus-a-copy\n",
      "  df['popularity'] = (df['popularity'] - df['popularity'].min()) / (df['popularity'].max() - df['popularity'].min())\n",
      "/Users/adil.quettawala/Documents/APS360/Project/APS360-project/synopsis-rnn/synopsis_rnn.py:95: SettingWithCopyWarning: \n",
      "A value is trying to be set on a copy of a slice from a DataFrame.\n",
      "Try using .loc[row_indexer,col_indexer] = value instead\n",
      "\n",
      "See the caveats in the documentation: https://pandas.pydata.org/pandas-docs/stable/user_guide/indexing.html#returning-a-view-versus-a-copy\n",
      "  df['synopsis'] = df['synopsis'].map(process_example)\n",
      "/Users/adil.quettawala/.virtualenvs/aps360/lib/python3.9/site-packages/torch/nn/modules/loss.py:536: UserWarning: Using a target size (torch.Size([64])) that is different to the input size (torch.Size([64, 1])). This will likely lead to incorrect results due to broadcasting. Please ensure they have the same size.\n",
      "  return F.mse_loss(input, target, reduction=self.reduction)\n",
      "/Users/adil.quettawala/.virtualenvs/aps360/lib/python3.9/site-packages/torch/nn/modules/loss.py:536: UserWarning: Using a target size (torch.Size([28])) that is different to the input size (torch.Size([28, 1])). This will likely lead to incorrect results due to broadcasting. Please ensure they have the same size.\n",
      "  return F.mse_loss(input, target, reduction=self.reduction)\n",
      "/Users/adil.quettawala/.virtualenvs/aps360/lib/python3.9/site-packages/torch/nn/modules/loss.py:536: UserWarning: Using a target size (torch.Size([39])) that is different to the input size (torch.Size([39, 1])). This will likely lead to incorrect results due to broadcasting. Please ensure they have the same size.\n",
      "  return F.mse_loss(input, target, reduction=self.reduction)\n"
     ]
    }
   ],
   "source": [
    "#This function allows us to loop through the data to train on BIDIRECTIONAL VS NON-BIDIRECTIONAL\n",
    "for bd in [False, True]:\n",
    "    rnn_test = RNN('RNNbd', bidir=bd)\n",
    "    train, val, max_len = get_data_loaders(dataset, rnn_test.batch_size)\n",
    "    model.train_model(rnn_test, train, val)"
   ]
  },
  {
   "cell_type": "markdown",
   "metadata": {
    "id": "flD6dSLs85WO"
   },
   "source": [
    "#DO NOT CLOSE COLAB WITHOUT DOWNLOADING THE MODEL WEIGHTS"
   ]
  },
  {
   "cell_type": "markdown",
   "metadata": {
    "id": "Ko1puPfAipgD"
   },
   "source": [
    "#Tuning Pooling"
   ]
  },
  {
   "cell_type": "code",
   "execution_count": 8,
   "metadata": {
    "id": "Mkqjk028ir5r",
    "scrolled": true
   },
   "outputs": [
    {
     "name": "stderr",
     "output_type": "stream",
     "text": [
      "/Users/adil.quettawala/Documents/APS360/Project/APS360-project/synopsis-rnn/synopsis_rnn.py:78: SettingWithCopyWarning: \n",
      "A value is trying to be set on a copy of a slice from a DataFrame.\n",
      "Try using .loc[row_indexer,col_indexer] = value instead\n",
      "\n",
      "See the caveats in the documentation: https://pandas.pydata.org/pandas-docs/stable/user_guide/indexing.html#returning-a-view-versus-a-copy\n",
      "  df['popularity'] = (df['popularity'] - df['popularity'].min()) / (df['popularity'].max() - df['popularity'].min())\n",
      "/Users/adil.quettawala/Documents/APS360/Project/APS360-project/synopsis-rnn/synopsis_rnn.py:95: SettingWithCopyWarning: \n",
      "A value is trying to be set on a copy of a slice from a DataFrame.\n",
      "Try using .loc[row_indexer,col_indexer] = value instead\n",
      "\n",
      "See the caveats in the documentation: https://pandas.pydata.org/pandas-docs/stable/user_guide/indexing.html#returning-a-view-versus-a-copy\n",
      "  df['synopsis'] = df['synopsis'].map(process_example)\n",
      "/Users/adil.quettawala/.virtualenvs/aps360/lib/python3.9/site-packages/torch/nn/modules/loss.py:536: UserWarning: Using a target size (torch.Size([64])) that is different to the input size (torch.Size([64, 1])). This will likely lead to incorrect results due to broadcasting. Please ensure they have the same size.\n",
      "  return F.mse_loss(input, target, reduction=self.reduction)\n",
      "/Users/adil.quettawala/.virtualenvs/aps360/lib/python3.9/site-packages/torch/nn/modules/loss.py:536: UserWarning: Using a target size (torch.Size([28])) that is different to the input size (torch.Size([28, 1])). This will likely lead to incorrect results due to broadcasting. Please ensure they have the same size.\n",
      "  return F.mse_loss(input, target, reduction=self.reduction)\n",
      "/Users/adil.quettawala/.virtualenvs/aps360/lib/python3.9/site-packages/torch/nn/modules/loss.py:536: UserWarning: Using a target size (torch.Size([39])) that is different to the input size (torch.Size([39, 1])). This will likely lead to incorrect results due to broadcasting. Please ensure they have the same size.\n",
      "  return F.mse_loss(input, target, reduction=self.reduction)\n",
      "/Users/adil.quettawala/Documents/APS360/Project/APS360-project/synopsis-rnn/synopsis_rnn.py:78: SettingWithCopyWarning: \n",
      "A value is trying to be set on a copy of a slice from a DataFrame.\n",
      "Try using .loc[row_indexer,col_indexer] = value instead\n",
      "\n",
      "See the caveats in the documentation: https://pandas.pydata.org/pandas-docs/stable/user_guide/indexing.html#returning-a-view-versus-a-copy\n",
      "  df['popularity'] = (df['popularity'] - df['popularity'].min()) / (df['popularity'].max() - df['popularity'].min())\n",
      "/Users/adil.quettawala/Documents/APS360/Project/APS360-project/synopsis-rnn/synopsis_rnn.py:95: SettingWithCopyWarning: \n",
      "A value is trying to be set on a copy of a slice from a DataFrame.\n",
      "Try using .loc[row_indexer,col_indexer] = value instead\n",
      "\n",
      "See the caveats in the documentation: https://pandas.pydata.org/pandas-docs/stable/user_guide/indexing.html#returning-a-view-versus-a-copy\n",
      "  df['synopsis'] = df['synopsis'].map(process_example)\n",
      "/Users/adil.quettawala/.virtualenvs/aps360/lib/python3.9/site-packages/torch/nn/modules/loss.py:536: UserWarning: Using a target size (torch.Size([64])) that is different to the input size (torch.Size([1])). This will likely lead to incorrect results due to broadcasting. Please ensure they have the same size.\n",
      "  return F.mse_loss(input, target, reduction=self.reduction)\n",
      "/Users/adil.quettawala/.virtualenvs/aps360/lib/python3.9/site-packages/torch/nn/modules/loss.py:536: UserWarning: Using a target size (torch.Size([28])) that is different to the input size (torch.Size([1])). This will likely lead to incorrect results due to broadcasting. Please ensure they have the same size.\n",
      "  return F.mse_loss(input, target, reduction=self.reduction)\n",
      "/Users/adil.quettawala/.virtualenvs/aps360/lib/python3.9/site-packages/torch/nn/modules/loss.py:536: UserWarning: Using a target size (torch.Size([39])) that is different to the input size (torch.Size([1])). This will likely lead to incorrect results due to broadcasting. Please ensure they have the same size.\n",
      "  return F.mse_loss(input, target, reduction=self.reduction)\n",
      "/Users/adil.quettawala/Documents/APS360/Project/APS360-project/synopsis-rnn/synopsis_rnn.py:78: SettingWithCopyWarning: \n",
      "A value is trying to be set on a copy of a slice from a DataFrame.\n",
      "Try using .loc[row_indexer,col_indexer] = value instead\n",
      "\n",
      "See the caveats in the documentation: https://pandas.pydata.org/pandas-docs/stable/user_guide/indexing.html#returning-a-view-versus-a-copy\n",
      "  df['popularity'] = (df['popularity'] - df['popularity'].min()) / (df['popularity'].max() - df['popularity'].min())\n",
      "/Users/adil.quettawala/Documents/APS360/Project/APS360-project/synopsis-rnn/synopsis_rnn.py:95: SettingWithCopyWarning: \n",
      "A value is trying to be set on a copy of a slice from a DataFrame.\n",
      "Try using .loc[row_indexer,col_indexer] = value instead\n",
      "\n",
      "See the caveats in the documentation: https://pandas.pydata.org/pandas-docs/stable/user_guide/indexing.html#returning-a-view-versus-a-copy\n",
      "  df['synopsis'] = df['synopsis'].map(process_example)\n"
     ]
    },
    {
     "ename": "RuntimeError",
     "evalue": "mat1 and mat2 shapes cannot be multiplied (64x128 and 64x1)",
     "output_type": "error",
     "traceback": [
      "\u001b[0;31m---------------------------------------------------------------------------\u001b[0m",
      "\u001b[0;31mRuntimeError\u001b[0m                              Traceback (most recent call last)",
      "Cell \u001b[0;32mIn[8], line 5\u001b[0m\n\u001b[1;32m      3\u001b[0m rnn_test \u001b[38;5;241m=\u001b[39m RNN(\u001b[38;5;124m'\u001b[39m\u001b[38;5;124mRNNp\u001b[39m\u001b[38;5;124m'\u001b[39m, pooling\u001b[38;5;241m=\u001b[39mp, num_epochs\u001b[38;5;241m=\u001b[39m\u001b[38;5;241m1\u001b[39m)\n\u001b[1;32m      4\u001b[0m train, val, max_len \u001b[38;5;241m=\u001b[39m get_data_loaders(dataset, rnn_test\u001b[38;5;241m.\u001b[39mbatch_size)\n\u001b[0;32m----> 5\u001b[0m \u001b[43mmodel\u001b[49m\u001b[38;5;241;43m.\u001b[39;49m\u001b[43mtrain_model\u001b[49m\u001b[43m(\u001b[49m\u001b[43mrnn_test\u001b[49m\u001b[43m,\u001b[49m\u001b[43m \u001b[49m\u001b[43mtrain\u001b[49m\u001b[43m,\u001b[49m\u001b[43m \u001b[49m\u001b[43mval\u001b[49m\u001b[43m)\u001b[49m\n",
      "File \u001b[0;32m~/Documents/APS360/Project/APS360-project/common/model.py:46\u001b[0m, in \u001b[0;36mtrain_model\u001b[0;34m(model, train_loader, val_loader)\u001b[0m\n\u001b[1;32m     43\u001b[0m total_epoch \u001b[38;5;241m=\u001b[39m \u001b[38;5;241m0\u001b[39m\n\u001b[1;32m     45\u001b[0m \u001b[38;5;28;01mfor\u001b[39;00m batch \u001b[38;5;129;01min\u001b[39;00m train_loader:\n\u001b[0;32m---> 46\u001b[0m     outputs, loss, total_loss, total_epoch \u001b[38;5;241m=\u001b[39m \u001b[43mcalc_loss_per_batch\u001b[49m\u001b[43m(\u001b[49m\u001b[43mbatch\u001b[49m\u001b[43m,\u001b[49m\u001b[43m \u001b[49m\u001b[43mmodel\u001b[49m\u001b[43m,\u001b[49m\u001b[43m \u001b[49m\u001b[43mcriterion\u001b[49m\u001b[43m,\u001b[49m\u001b[43m \u001b[49m\u001b[43mtotal_loss\u001b[49m\u001b[43m,\u001b[49m\u001b[43m \u001b[49m\u001b[43mtotal_epoch\u001b[49m\u001b[43m)\u001b[49m\n\u001b[1;32m     47\u001b[0m     optimizer\u001b[38;5;241m.\u001b[39mzero_grad()\n\u001b[1;32m     48\u001b[0m     loss \u001b[38;5;241m=\u001b[39m criterion(outputs, batch[\u001b[38;5;241m1\u001b[39m])\n",
      "File \u001b[0;32m~/Documents/APS360/Project/APS360-project/common/evaluate.py:17\u001b[0m, in \u001b[0;36mcalc_loss_per_batch\u001b[0;34m(data, net, criterion, total_loss, total_epoch)\u001b[0m\n\u001b[1;32m     15\u001b[0m \u001b[38;5;28;01mdef\u001b[39;00m \u001b[38;5;21mcalc_loss_per_batch\u001b[39m(data, net, criterion, total_loss, total_epoch):\n\u001b[1;32m     16\u001b[0m     inputs, labels \u001b[38;5;241m=\u001b[39m data\n\u001b[0;32m---> 17\u001b[0m     outputs \u001b[38;5;241m=\u001b[39m \u001b[43mnet\u001b[49m\u001b[43m(\u001b[49m\u001b[43minputs\u001b[49m\u001b[43m)\u001b[49m\n\u001b[1;32m     18\u001b[0m     loss \u001b[38;5;241m=\u001b[39m torch\u001b[38;5;241m.\u001b[39msqrt(criterion(outputs, labels\u001b[38;5;241m.\u001b[39mfloat()))\n\u001b[1;32m     19\u001b[0m     total_loss \u001b[38;5;241m+\u001b[39m\u001b[38;5;241m=\u001b[39m loss\u001b[38;5;241m.\u001b[39mitem()\n",
      "File \u001b[0;32m~/.virtualenvs/aps360/lib/python3.9/site-packages/torch/nn/modules/module.py:1501\u001b[0m, in \u001b[0;36mModule._call_impl\u001b[0;34m(self, *args, **kwargs)\u001b[0m\n\u001b[1;32m   1496\u001b[0m \u001b[38;5;66;03m# If we don't have any hooks, we want to skip the rest of the logic in\u001b[39;00m\n\u001b[1;32m   1497\u001b[0m \u001b[38;5;66;03m# this function, and just call forward.\u001b[39;00m\n\u001b[1;32m   1498\u001b[0m \u001b[38;5;28;01mif\u001b[39;00m \u001b[38;5;129;01mnot\u001b[39;00m (\u001b[38;5;28mself\u001b[39m\u001b[38;5;241m.\u001b[39m_backward_hooks \u001b[38;5;129;01mor\u001b[39;00m \u001b[38;5;28mself\u001b[39m\u001b[38;5;241m.\u001b[39m_backward_pre_hooks \u001b[38;5;129;01mor\u001b[39;00m \u001b[38;5;28mself\u001b[39m\u001b[38;5;241m.\u001b[39m_forward_hooks \u001b[38;5;129;01mor\u001b[39;00m \u001b[38;5;28mself\u001b[39m\u001b[38;5;241m.\u001b[39m_forward_pre_hooks\n\u001b[1;32m   1499\u001b[0m         \u001b[38;5;129;01mor\u001b[39;00m _global_backward_pre_hooks \u001b[38;5;129;01mor\u001b[39;00m _global_backward_hooks\n\u001b[1;32m   1500\u001b[0m         \u001b[38;5;129;01mor\u001b[39;00m _global_forward_hooks \u001b[38;5;129;01mor\u001b[39;00m _global_forward_pre_hooks):\n\u001b[0;32m-> 1501\u001b[0m     \u001b[38;5;28;01mreturn\u001b[39;00m \u001b[43mforward_call\u001b[49m\u001b[43m(\u001b[49m\u001b[38;5;241;43m*\u001b[39;49m\u001b[43margs\u001b[49m\u001b[43m,\u001b[49m\u001b[43m \u001b[49m\u001b[38;5;241;43m*\u001b[39;49m\u001b[38;5;241;43m*\u001b[39;49m\u001b[43mkwargs\u001b[49m\u001b[43m)\u001b[49m\n\u001b[1;32m   1502\u001b[0m \u001b[38;5;66;03m# Do not call functions when jit is used\u001b[39;00m\n\u001b[1;32m   1503\u001b[0m full_backward_hooks, non_full_backward_hooks \u001b[38;5;241m=\u001b[39m [], []\n",
      "File \u001b[0;32m~/Documents/APS360/Project/APS360-project/synopsis-rnn/synopsis_rnn.py:56\u001b[0m, in \u001b[0;36mRNN.forward\u001b[0;34m(self, inp, hidden)\u001b[0m\n\u001b[1;32m     53\u001b[0m \u001b[38;5;28;01melif\u001b[39;00m \u001b[38;5;28mself\u001b[39m\u001b[38;5;241m.\u001b[39mpool \u001b[38;5;241m==\u001b[39m \u001b[38;5;124m'\u001b[39m\u001b[38;5;124mcat\u001b[39m\u001b[38;5;124m'\u001b[39m:\n\u001b[1;32m     54\u001b[0m     output \u001b[38;5;241m=\u001b[39m torch\u001b[38;5;241m.\u001b[39mcat([torch\u001b[38;5;241m.\u001b[39mmax(output, dim\u001b[38;5;241m=\u001b[39m\u001b[38;5;241m1\u001b[39m)[\u001b[38;5;241m0\u001b[39m],\n\u001b[1;32m     55\u001b[0m                         torch\u001b[38;5;241m.\u001b[39mmean(output, dim\u001b[38;5;241m=\u001b[39m\u001b[38;5;241m1\u001b[39m)], dim\u001b[38;5;241m=\u001b[39m\u001b[38;5;241m1\u001b[39m)\n\u001b[0;32m---> 56\u001b[0m output \u001b[38;5;241m=\u001b[39m \u001b[38;5;28;43mself\u001b[39;49m\u001b[38;5;241;43m.\u001b[39;49m\u001b[43mclassifier\u001b[49m\u001b[43m(\u001b[49m\u001b[43moutput\u001b[49m\u001b[43m)\u001b[49m\n\u001b[1;32m     57\u001b[0m \u001b[38;5;66;03m# print(\"3\", output.shape)\u001b[39;00m\n\u001b[1;32m     58\u001b[0m \u001b[38;5;28;01mreturn\u001b[39;00m output\n",
      "File \u001b[0;32m~/.virtualenvs/aps360/lib/python3.9/site-packages/torch/nn/modules/module.py:1501\u001b[0m, in \u001b[0;36mModule._call_impl\u001b[0;34m(self, *args, **kwargs)\u001b[0m\n\u001b[1;32m   1496\u001b[0m \u001b[38;5;66;03m# If we don't have any hooks, we want to skip the rest of the logic in\u001b[39;00m\n\u001b[1;32m   1497\u001b[0m \u001b[38;5;66;03m# this function, and just call forward.\u001b[39;00m\n\u001b[1;32m   1498\u001b[0m \u001b[38;5;28;01mif\u001b[39;00m \u001b[38;5;129;01mnot\u001b[39;00m (\u001b[38;5;28mself\u001b[39m\u001b[38;5;241m.\u001b[39m_backward_hooks \u001b[38;5;129;01mor\u001b[39;00m \u001b[38;5;28mself\u001b[39m\u001b[38;5;241m.\u001b[39m_backward_pre_hooks \u001b[38;5;129;01mor\u001b[39;00m \u001b[38;5;28mself\u001b[39m\u001b[38;5;241m.\u001b[39m_forward_hooks \u001b[38;5;129;01mor\u001b[39;00m \u001b[38;5;28mself\u001b[39m\u001b[38;5;241m.\u001b[39m_forward_pre_hooks\n\u001b[1;32m   1499\u001b[0m         \u001b[38;5;129;01mor\u001b[39;00m _global_backward_pre_hooks \u001b[38;5;129;01mor\u001b[39;00m _global_backward_hooks\n\u001b[1;32m   1500\u001b[0m         \u001b[38;5;129;01mor\u001b[39;00m _global_forward_hooks \u001b[38;5;129;01mor\u001b[39;00m _global_forward_pre_hooks):\n\u001b[0;32m-> 1501\u001b[0m     \u001b[38;5;28;01mreturn\u001b[39;00m \u001b[43mforward_call\u001b[49m\u001b[43m(\u001b[49m\u001b[38;5;241;43m*\u001b[39;49m\u001b[43margs\u001b[49m\u001b[43m,\u001b[49m\u001b[43m \u001b[49m\u001b[38;5;241;43m*\u001b[39;49m\u001b[38;5;241;43m*\u001b[39;49m\u001b[43mkwargs\u001b[49m\u001b[43m)\u001b[49m\n\u001b[1;32m   1502\u001b[0m \u001b[38;5;66;03m# Do not call functions when jit is used\u001b[39;00m\n\u001b[1;32m   1503\u001b[0m full_backward_hooks, non_full_backward_hooks \u001b[38;5;241m=\u001b[39m [], []\n",
      "File \u001b[0;32m~/.virtualenvs/aps360/lib/python3.9/site-packages/torch/nn/modules/linear.py:114\u001b[0m, in \u001b[0;36mLinear.forward\u001b[0;34m(self, input)\u001b[0m\n\u001b[1;32m    113\u001b[0m \u001b[38;5;28;01mdef\u001b[39;00m \u001b[38;5;21mforward\u001b[39m(\u001b[38;5;28mself\u001b[39m, \u001b[38;5;28minput\u001b[39m: Tensor) \u001b[38;5;241m-\u001b[39m\u001b[38;5;241m>\u001b[39m Tensor:\n\u001b[0;32m--> 114\u001b[0m     \u001b[38;5;28;01mreturn\u001b[39;00m \u001b[43mF\u001b[49m\u001b[38;5;241;43m.\u001b[39;49m\u001b[43mlinear\u001b[49m\u001b[43m(\u001b[49m\u001b[38;5;28;43minput\u001b[39;49m\u001b[43m,\u001b[49m\u001b[43m \u001b[49m\u001b[38;5;28;43mself\u001b[39;49m\u001b[38;5;241;43m.\u001b[39;49m\u001b[43mweight\u001b[49m\u001b[43m,\u001b[49m\u001b[43m \u001b[49m\u001b[38;5;28;43mself\u001b[39;49m\u001b[38;5;241;43m.\u001b[39;49m\u001b[43mbias\u001b[49m\u001b[43m)\u001b[49m\n",
      "\u001b[0;31mRuntimeError\u001b[0m: mat1 and mat2 shapes cannot be multiplied (64x128 and 64x1)"
     ]
    }
   ],
   "source": [
    "#This function allows us to loop through the data to train on three different POOLING TYPES\n",
    "for p in ['max', 'mean', 'cat']:\n",
    "    rnn_test = RNN('RNNp', pooling=p, num_epochs=1)\n",
    "    train, val, max_len = get_data_loaders(dataset, rnn_test.batch_size)\n",
    "    model.train_model(rnn_test, train, val)"
   ]
  },
  {
   "cell_type": "code",
   "execution_count": 32,
   "metadata": {},
   "outputs": [
    {
     "name": "stdout",
     "output_type": "stream",
     "text": [
      "[0.28927620450655617, 1, 'training/RNNp_64_0.01_100_1_0.0_cat_99_val_loss.csv']\n"
     ]
    },
    {
     "data": {
      "text/plain": [
       "[0.28927620450655617, 1, 'training/RNNp_64_0.01_100_1_0.0_cat_99_val_loss.csv']"
      ]
     },
     "execution_count": 32,
     "metadata": {},
     "output_type": "execute_result"
    }
   ],
   "source": [
    "evaluate.get_best_loss('RNN')"
   ]
  },
  {
   "cell_type": "code",
   "execution_count": 1,
   "metadata": {},
   "outputs": [
    {
     "name": "stdout",
     "output_type": "stream",
     "text": [
      "/Users/adil.quettawala/Documents/APS360/Project/APS360-project\n"
     ]
    }
   ],
   "source": [
    "cd .."
   ]
  },
  {
   "cell_type": "code",
   "execution_count": 2,
   "metadata": {},
   "outputs": [],
   "source": [
    "from glob import glob\n",
    "\n",
    "ls = glob('training/RNN*_val_loss.csv')\n",
    "ls = sorted(ls)"
   ]
  },
  {
   "cell_type": "code",
   "execution_count": null,
   "metadata": {},
   "outputs": [],
   "source": []
  },
  {
   "cell_type": "code",
   "execution_count": 30,
   "metadata": {},
   "outputs": [],
   "source": [
    "import numpy as np\n",
    "import math\n",
    "def correct_loss():\n",
    "    ls = sorted(glob(f\"training/RNN*_val_loss.csv\"))\n",
    "    total_mins = [np.inf, 0, 'hello']\n",
    "    for file in ls:\n",
    "        # 848 should be the total number of validation data points\n",
    "        # 4th index should be the batch size, but double check\n",
    "        num_of_batch = math.ceil(935 / int(file.split(\"_\")[1]))\n",
    "        with open(file, 'r') as f:\n",
    "            nums = np.array(f.read().split()).astype(np.float_)\n",
    "            for i in range(len(nums)):\n",
    "                total_mins[0] = min(nums)\n",
    "                total_mins[1] = np.argmin(nums)\n",
    "                total_mins[2] = file\n",
    "        # # name where you want to write the saved files\n",
    "        # # make sure you don't overwrite the original files\n",
    "        # with open(<DESTINATION_FILE>, 'w') as f:\n",
    "        #     for num in nums:\n",
    "        #         f.write(str(num) + '\\n')\n",
    "    return total_mins"
   ]
  },
  {
   "cell_type": "code",
   "execution_count": 31,
   "metadata": {},
   "outputs": [
    {
     "data": {
      "text/plain": [
       "[2.1831128299236298, 0, 'training/RNNp_64_0.01_1_1_0.0_mean_0_val_loss.csv']"
      ]
     },
     "execution_count": 31,
     "metadata": {},
     "output_type": "execute_result"
    }
   ],
   "source": [
    "correct_loss()"
   ]
  },
  {
   "cell_type": "code",
   "execution_count": 3,
   "metadata": {},
   "outputs": [
    {
     "name": "stdout",
     "output_type": "stream",
     "text": [
      "training/RNNb_128_0.01_200_1_0.0_max_199_val_loss.csv 1.169939085841179\n",
      "training/RNNb_32_0.01_200_1_0.0_max_199_val_loss.csv 4.278398118913174\n",
      "training/RNNb_64_0.01_200_1_0.0_max_199_val_loss.csv 2.2007406502962112\n",
      "training/RNNbd_64_0.01_100_1_0.0_max_99_val_loss.csv 2.16338849067688\n",
      "training/RNNl_64_0.01_100_2_0.0_max_99_val_loss.csv 2.175197944045067\n",
      "training/RNNl_64_0.01_100_4_0.0_max_99_val_loss.csv 2.2242818772792816\n",
      "training/RNNl_64_0.01_100_8_0.0_max_99_val_loss.csv 2.2180539071559906\n",
      "training/RNNlr_64_0.01_100_1_0.0_max_99_val_loss.csv 2.1678000688552856\n",
      "training/RNNlr_64_0.05_100_1_0.0_max_99_val_loss.csv 2.208058223128319\n",
      "training/RNNlr_64_0.1_100_1_0.0_max_99_val_loss.csv 2.220631718635559\n",
      "training/RNNp_64_0.01_100_1_0.0_cat_99_val_loss.csv 0.28927620450655617\n",
      "training/RNNp_64_0.01_100_1_0.0_max_99_val_loss.csv 0.29407608111699424\n",
      "training/RNNp_64_0.01_100_1_0.0_mean_99_val_loss.csv 0.2894016484419505\n",
      "training/RNNp_64_0.01_1_1_0.0_max_0_val_loss.csv 2.1763078421354294\n",
      "training/RNNp_64_0.01_1_1_0.0_mean_0_val_loss.csv 2.1831128299236298\n"
     ]
    }
   ],
   "source": [
    "import numpy as np\n",
    "import matplotlib.pyplot as plt\n",
    "\n",
    "for l in ls:\n",
    "    # nums = np.array(open(l, 'r').read().split()).astype(np.float_)\n",
    "    # if 'RNNp' not in l:\n",
    "    #     nums = nums*len(val)\n",
    "    #     np.savetxt(l, nums)\n",
    "    # if min(nums) < 1:\n",
    "    #     print(l, min(nums))\n",
    "    # elif min(nums) > 100:\n",
    "    #     print('too high', l, min(nums))\n",
    "    print(l, min(nums))\n"
   ]
  },
  {
   "cell_type": "markdown",
   "metadata": {},
   "source": [
    "## Evaluate Model"
   ]
  },
  {
   "cell_type": "code",
   "execution_count": 4,
   "metadata": {},
   "outputs": [],
   "source": [
    "from glob import glob\n",
    "import numpy as np\n",
    "import math"
   ]
  },
  {
   "cell_type": "code",
   "execution_count": 5,
   "metadata": {},
   "outputs": [],
   "source": [
    "dataset_full = 'data_collection/data/balanced_animes_data_max_rank=5000.csv'\n",
    "dataset_no_test = 'data_collection/data/balanced_animes_data_max_no_test'\n",
    "test_ids = open('common/test_ids.txt', 'r').read().strip('[]').split(', ')\n",
    "test_ids = [int(t) for t in test_ids]\n",
    "df = pd.read_csv(dataset_full)\n",
    "df_test = df[df['id'].isin(test_ids)]"
   ]
  },
  {
   "cell_type": "code",
   "execution_count": 6,
   "metadata": {
    "scrolled": true
   },
   "outputs": [
    {
     "name": "stderr",
     "output_type": "stream",
     "text": [
      "/Users/adil.quettawala/Documents/APS360/Project/APS360-project/synopsis-rnn/synopsis_rnn.py:77: SettingWithCopyWarning: \n",
      "A value is trying to be set on a copy of a slice from a DataFrame.\n",
      "Try using .loc[row_indexer,col_indexer] = value instead\n",
      "\n",
      "See the caveats in the documentation: https://pandas.pydata.org/pandas-docs/stable/user_guide/indexing.html#returning-a-view-versus-a-copy\n",
      "  df['popularity'] = (df['popularity'] - df['popularity'].min()) / (df['popularity'].max() - df['popularity'].min())\n",
      "/Users/adil.quettawala/Documents/APS360/Project/APS360-project/synopsis-rnn/synopsis_rnn.py:94: SettingWithCopyWarning: \n",
      "A value is trying to be set on a copy of a slice from a DataFrame.\n",
      "Try using .loc[row_indexer,col_indexer] = value instead\n",
      "\n",
      "See the caveats in the documentation: https://pandas.pydata.org/pandas-docs/stable/user_guide/indexing.html#returning-a-view-versus-a-copy\n",
      "  df['synopsis'] = df['synopsis'].map(process_example)\n",
      "/Users/adil.quettawala/Documents/APS360/Project/APS360-project/synopsis-rnn/synopsis_rnn.py:77: SettingWithCopyWarning: \n",
      "A value is trying to be set on a copy of a slice from a DataFrame.\n",
      "Try using .loc[row_indexer,col_indexer] = value instead\n",
      "\n",
      "See the caveats in the documentation: https://pandas.pydata.org/pandas-docs/stable/user_guide/indexing.html#returning-a-view-versus-a-copy\n",
      "  df['popularity'] = (df['popularity'] - df['popularity'].min()) / (df['popularity'].max() - df['popularity'].min())\n",
      "/Users/adil.quettawala/Documents/APS360/Project/APS360-project/synopsis-rnn/synopsis_rnn.py:94: SettingWithCopyWarning: \n",
      "A value is trying to be set on a copy of a slice from a DataFrame.\n",
      "Try using .loc[row_indexer,col_indexer] = value instead\n",
      "\n",
      "See the caveats in the documentation: https://pandas.pydata.org/pandas-docs/stable/user_guide/indexing.html#returning-a-view-versus-a-copy\n",
      "  df['synopsis'] = df['synopsis'].map(process_example)\n"
     ]
    }
   ],
   "source": [
    "train, val, max = get_data_loaders(dataset)\n",
    "test_ds = animeDataset(df_test)\n",
    "test = DataLoader(test_ds, 32)"
   ]
  },
  {
   "cell_type": "code",
   "execution_count": 7,
   "metadata": {},
   "outputs": [],
   "source": [
    "ls = sorted(glob(f\"training/RNN*\"))\n",
    "check_l = lambda l: ('_loss' not in l) and ('_logs' not in l) and ('plots' not in l)\n",
    "ls = sorted([l for l in ls if check_l(l)])"
   ]
  },
  {
   "cell_type": "code",
   "execution_count": 8,
   "metadata": {
    "collapsed": true,
    "jupyter": {
     "outputs_hidden": true
    }
   },
   "outputs": [
    {
     "data": {
      "text/plain": [
       "['training/RNNb_128_0.01_200_1_0.0_max_0',\n",
       " 'training/RNNb_128_0.01_200_1_0.0_max_1',\n",
       " 'training/RNNb_128_0.01_200_1_0.0_max_100',\n",
       " 'training/RNNb_128_0.01_200_1_0.0_max_120',\n",
       " 'training/RNNb_128_0.01_200_1_0.0_max_140',\n",
       " 'training/RNNb_128_0.01_200_1_0.0_max_160',\n",
       " 'training/RNNb_128_0.01_200_1_0.0_max_180',\n",
       " 'training/RNNb_128_0.01_200_1_0.0_max_199',\n",
       " 'training/RNNb_128_0.01_200_1_0.0_max_2',\n",
       " 'training/RNNb_128_0.01_200_1_0.0_max_20',\n",
       " 'training/RNNb_128_0.01_200_1_0.0_max_30',\n",
       " 'training/RNNb_128_0.01_200_1_0.0_max_40',\n",
       " 'training/RNNb_128_0.01_200_1_0.0_max_60',\n",
       " 'training/RNNb_128_0.01_200_1_0.0_max_80',\n",
       " 'training/RNNb_32_0.01_200_1_0.0_max_0',\n",
       " 'training/RNNb_32_0.01_200_1_0.0_max_100',\n",
       " 'training/RNNb_32_0.01_200_1_0.0_max_120',\n",
       " 'training/RNNb_32_0.01_200_1_0.0_max_140',\n",
       " 'training/RNNb_32_0.01_200_1_0.0_max_160',\n",
       " 'training/RNNb_32_0.01_200_1_0.0_max_180',\n",
       " 'training/RNNb_32_0.01_200_1_0.0_max_199',\n",
       " 'training/RNNb_32_0.01_200_1_0.0_max_2',\n",
       " 'training/RNNb_32_0.01_200_1_0.0_max_20',\n",
       " 'training/RNNb_32_0.01_200_1_0.0_max_3',\n",
       " 'training/RNNb_32_0.01_200_1_0.0_max_40',\n",
       " 'training/RNNb_32_0.01_200_1_0.0_max_60',\n",
       " 'training/RNNb_32_0.01_200_1_0.0_max_80',\n",
       " 'training/RNNb_64_0.01_200_1_0.0_max_0',\n",
       " 'training/RNNb_64_0.01_200_1_0.0_max_1',\n",
       " 'training/RNNb_64_0.01_200_1_0.0_max_100',\n",
       " 'training/RNNb_64_0.01_200_1_0.0_max_120',\n",
       " 'training/RNNb_64_0.01_200_1_0.0_max_140',\n",
       " 'training/RNNb_64_0.01_200_1_0.0_max_160',\n",
       " 'training/RNNb_64_0.01_200_1_0.0_max_180',\n",
       " 'training/RNNb_64_0.01_200_1_0.0_max_199',\n",
       " 'training/RNNb_64_0.01_200_1_0.0_max_2',\n",
       " 'training/RNNb_64_0.01_200_1_0.0_max_20',\n",
       " 'training/RNNb_64_0.01_200_1_0.0_max_3',\n",
       " 'training/RNNb_64_0.01_200_1_0.0_max_4',\n",
       " 'training/RNNb_64_0.01_200_1_0.0_max_40',\n",
       " 'training/RNNb_64_0.01_200_1_0.0_max_60',\n",
       " 'training/RNNb_64_0.01_200_1_0.0_max_80',\n",
       " 'training/RNNbd_64_0.01_100_1_0.0_max_0',\n",
       " 'training/RNNbd_64_0.01_100_1_0.0_max_1',\n",
       " 'training/RNNbd_64_0.01_100_1_0.0_max_10',\n",
       " 'training/RNNbd_64_0.01_100_1_0.0_max_14',\n",
       " 'training/RNNbd_64_0.01_100_1_0.0_max_15',\n",
       " 'training/RNNbd_64_0.01_100_1_0.0_max_20',\n",
       " 'training/RNNbd_64_0.01_100_1_0.0_max_40',\n",
       " 'training/RNNbd_64_0.01_100_1_0.0_max_60',\n",
       " 'training/RNNbd_64_0.01_100_1_0.0_max_80',\n",
       " 'training/RNNbd_64_0.01_100_1_0.0_max_99',\n",
       " 'training/RNNl_64_0.01_100_2_0.0_max_0',\n",
       " 'training/RNNl_64_0.01_100_2_0.0_max_10',\n",
       " 'training/RNNl_64_0.01_100_2_0.0_max_12',\n",
       " 'training/RNNl_64_0.01_100_2_0.0_max_13',\n",
       " 'training/RNNl_64_0.01_100_2_0.0_max_20',\n",
       " 'training/RNNl_64_0.01_100_2_0.0_max_40',\n",
       " 'training/RNNl_64_0.01_100_2_0.0_max_60',\n",
       " 'training/RNNl_64_0.01_100_2_0.0_max_7',\n",
       " 'training/RNNl_64_0.01_100_2_0.0_max_8',\n",
       " 'training/RNNl_64_0.01_100_2_0.0_max_80',\n",
       " 'training/RNNl_64_0.01_100_2_0.0_max_9',\n",
       " 'training/RNNl_64_0.01_100_2_0.0_max_99',\n",
       " 'training/RNNl_64_0.01_100_4_0.0_max_0',\n",
       " 'training/RNNl_64_0.01_100_4_0.0_max_20',\n",
       " 'training/RNNl_64_0.01_100_4_0.0_max_40',\n",
       " 'training/RNNl_64_0.01_100_4_0.0_max_60',\n",
       " 'training/RNNl_64_0.01_100_4_0.0_max_80',\n",
       " 'training/RNNl_64_0.01_100_4_0.0_max_99',\n",
       " 'training/RNNl_64_0.01_100_8_0.0_max_0',\n",
       " 'training/RNNl_64_0.01_100_8_0.0_max_18',\n",
       " 'training/RNNl_64_0.01_100_8_0.0_max_20',\n",
       " 'training/RNNl_64_0.01_100_8_0.0_max_40',\n",
       " 'training/RNNl_64_0.01_100_8_0.0_max_60',\n",
       " 'training/RNNl_64_0.01_100_8_0.0_max_80',\n",
       " 'training/RNNl_64_0.01_100_8_0.0_max_99',\n",
       " 'training/RNNlr_64_0.01_100_1_0.0_max_0',\n",
       " 'training/RNNlr_64_0.01_100_1_0.0_max_1',\n",
       " 'training/RNNlr_64_0.01_100_1_0.0_max_10',\n",
       " 'training/RNNlr_64_0.01_100_1_0.0_max_20',\n",
       " 'training/RNNlr_64_0.01_100_1_0.0_max_40',\n",
       " 'training/RNNlr_64_0.01_100_1_0.0_max_60',\n",
       " 'training/RNNlr_64_0.01_100_1_0.0_max_80',\n",
       " 'training/RNNlr_64_0.01_100_1_0.0_max_99',\n",
       " 'training/RNNlr_64_0.05_100_1_0.0_max_0',\n",
       " 'training/RNNlr_64_0.05_100_1_0.0_max_1',\n",
       " 'training/RNNlr_64_0.05_100_1_0.0_max_15',\n",
       " 'training/RNNlr_64_0.05_100_1_0.0_max_17',\n",
       " 'training/RNNlr_64_0.05_100_1_0.0_max_18',\n",
       " 'training/RNNlr_64_0.05_100_1_0.0_max_2',\n",
       " 'training/RNNlr_64_0.05_100_1_0.0_max_20',\n",
       " 'training/RNNlr_64_0.05_100_1_0.0_max_22',\n",
       " 'training/RNNlr_64_0.05_100_1_0.0_max_23',\n",
       " 'training/RNNlr_64_0.05_100_1_0.0_max_3',\n",
       " 'training/RNNlr_64_0.05_100_1_0.0_max_36',\n",
       " 'training/RNNlr_64_0.05_100_1_0.0_max_40',\n",
       " 'training/RNNlr_64_0.05_100_1_0.0_max_44',\n",
       " 'training/RNNlr_64_0.05_100_1_0.0_max_60',\n",
       " 'training/RNNlr_64_0.05_100_1_0.0_max_80',\n",
       " 'training/RNNlr_64_0.05_100_1_0.0_max_99',\n",
       " 'training/RNNlr_64_0.1_100_1_0.0_max_0',\n",
       " 'training/RNNlr_64_0.1_100_1_0.0_max_1',\n",
       " 'training/RNNlr_64_0.1_100_1_0.0_max_2',\n",
       " 'training/RNNlr_64_0.1_100_1_0.0_max_20',\n",
       " 'training/RNNlr_64_0.1_100_1_0.0_max_24',\n",
       " 'training/RNNlr_64_0.1_100_1_0.0_max_26',\n",
       " 'training/RNNlr_64_0.1_100_1_0.0_max_4',\n",
       " 'training/RNNlr_64_0.1_100_1_0.0_max_40',\n",
       " 'training/RNNlr_64_0.1_100_1_0.0_max_60',\n",
       " 'training/RNNlr_64_0.1_100_1_0.0_max_75',\n",
       " 'training/RNNlr_64_0.1_100_1_0.0_max_76',\n",
       " 'training/RNNlr_64_0.1_100_1_0.0_max_80',\n",
       " 'training/RNNlr_64_0.1_100_1_0.0_max_99',\n",
       " 'training/RNNp_64_0.01_100_1_0.0_cat_1',\n",
       " 'training/RNNp_64_0.01_1_1_0.0_max_0',\n",
       " 'training/RNNp_64_0.01_1_1_0.0_mean_0']"
      ]
     },
     "execution_count": 8,
     "metadata": {},
     "output_type": "execute_result"
    }
   ],
   "source": [
    "ls"
   ]
  },
  {
   "cell_type": "code",
   "execution_count": 9,
   "metadata": {
    "collapsed": true,
    "jupyter": {
     "outputs_hidden": true
    },
    "scrolled": true
   },
   "outputs": [
    {
     "name": "stderr",
     "output_type": "stream",
     "text": [
      "/Users/adil.quettawala/.virtualenvs/aps360/lib/python3.9/site-packages/torch/nn/modules/loss.py:536: UserWarning: Using a target size (torch.Size([32])) that is different to the input size (torch.Size([32, 1])). This will likely lead to incorrect results due to broadcasting. Please ensure they have the same size.\n",
      "  return F.mse_loss(input, target, reduction=self.reduction)\n",
      "/Users/adil.quettawala/.virtualenvs/aps360/lib/python3.9/site-packages/torch/nn/modules/loss.py:536: UserWarning: Using a target size (torch.Size([28])) that is different to the input size (torch.Size([28, 1])). This will likely lead to incorrect results due to broadcasting. Please ensure they have the same size.\n",
      "  return F.mse_loss(input, target, reduction=self.reduction)\n",
      "/Users/adil.quettawala/.virtualenvs/aps360/lib/python3.9/site-packages/torch/nn/modules/loss.py:536: UserWarning: Using a target size (torch.Size([7])) that is different to the input size (torch.Size([7, 1])). This will likely lead to incorrect results due to broadcasting. Please ensure they have the same size.\n",
      "  return F.mse_loss(input, target, reduction=self.reduction)\n",
      "/Users/adil.quettawala/.virtualenvs/aps360/lib/python3.9/site-packages/torch/nn/modules/loss.py:536: UserWarning: Using a target size (torch.Size([23])) that is different to the input size (torch.Size([23, 1])). This will likely lead to incorrect results due to broadcasting. Please ensure they have the same size.\n",
      "  return F.mse_loss(input, target, reduction=self.reduction)\n"
     ]
    },
    {
     "name": "stdout",
     "output_type": "stream",
     "text": [
      "training/RNNbd_64_0.01_100_1_0.0_max_0\n",
      "training/RNNbd_64_0.01_100_1_0.0_max_1\n",
      "training/RNNbd_64_0.01_100_1_0.0_max_14\n",
      "training/RNNbd_64_0.01_100_1_0.0_max_15\n",
      "training/RNNbd_64_0.01_100_1_0.0_max_20\n",
      "training/RNNbd_64_0.01_100_1_0.0_max_40\n",
      "training/RNNbd_64_0.01_100_1_0.0_max_60\n",
      "training/RNNbd_64_0.01_100_1_0.0_max_80\n",
      "training/RNNbd_64_0.01_100_1_0.0_max_99\n"
     ]
    },
    {
     "name": "stderr",
     "output_type": "stream",
     "text": [
      "/Users/adil.quettawala/.virtualenvs/aps360/lib/python3.9/site-packages/torch/nn/modules/loss.py:536: UserWarning: Using a target size (torch.Size([32])) that is different to the input size (torch.Size([64, 1])). This will likely lead to incorrect results due to broadcasting. Please ensure they have the same size.\n",
      "  return F.mse_loss(input, target, reduction=self.reduction)\n",
      "/Users/adil.quettawala/.virtualenvs/aps360/lib/python3.9/site-packages/torch/nn/modules/loss.py:536: UserWarning: Using a target size (torch.Size([28])) that is different to the input size (torch.Size([56, 1])). This will likely lead to incorrect results due to broadcasting. Please ensure they have the same size.\n",
      "  return F.mse_loss(input, target, reduction=self.reduction)\n",
      "/Users/adil.quettawala/.virtualenvs/aps360/lib/python3.9/site-packages/torch/nn/modules/loss.py:536: UserWarning: Using a target size (torch.Size([7])) that is different to the input size (torch.Size([14, 1])). This will likely lead to incorrect results due to broadcasting. Please ensure they have the same size.\n",
      "  return F.mse_loss(input, target, reduction=self.reduction)\n",
      "/Users/adil.quettawala/.virtualenvs/aps360/lib/python3.9/site-packages/torch/nn/modules/loss.py:536: UserWarning: Using a target size (torch.Size([23])) that is different to the input size (torch.Size([46, 1])). This will likely lead to incorrect results due to broadcasting. Please ensure they have the same size.\n",
      "  return F.mse_loss(input, target, reduction=self.reduction)\n",
      "/Users/adil.quettawala/.virtualenvs/aps360/lib/python3.9/site-packages/torch/nn/modules/loss.py:536: UserWarning: Using a target size (torch.Size([32])) that is different to the input size (torch.Size([1])). This will likely lead to incorrect results due to broadcasting. Please ensure they have the same size.\n",
      "  return F.mse_loss(input, target, reduction=self.reduction)\n",
      "/Users/adil.quettawala/.virtualenvs/aps360/lib/python3.9/site-packages/torch/nn/modules/loss.py:536: UserWarning: Using a target size (torch.Size([28])) that is different to the input size (torch.Size([1])). This will likely lead to incorrect results due to broadcasting. Please ensure they have the same size.\n",
      "  return F.mse_loss(input, target, reduction=self.reduction)\n",
      "/Users/adil.quettawala/.virtualenvs/aps360/lib/python3.9/site-packages/torch/nn/modules/loss.py:536: UserWarning: Using a target size (torch.Size([7])) that is different to the input size (torch.Size([1])). This will likely lead to incorrect results due to broadcasting. Please ensure they have the same size.\n",
      "  return F.mse_loss(input, target, reduction=self.reduction)\n",
      "/Users/adil.quettawala/.virtualenvs/aps360/lib/python3.9/site-packages/torch/nn/modules/loss.py:536: UserWarning: Using a target size (torch.Size([23])) that is different to the input size (torch.Size([1])). This will likely lead to incorrect results due to broadcasting. Please ensure they have the same size.\n",
      "  return F.mse_loss(input, target, reduction=self.reduction)\n"
     ]
    }
   ],
   "source": [
    "def find_test_acc(l):\n",
    "    training = []\n",
    "    validation = []\n",
    "    testing = []\n",
    "    li = l.split('_')\n",
    "    batch_size, lr, ne, layer, dropout, pooling, epoch = tuple(li[1:])\n",
    "    batch_size, ne, layer, epoch = int(batch_size), int(ne), int(layer), int(epoch)\n",
    "    lr, dropout = float(lr), float(dropout)\n",
    "    model = RNN('RNNb', batch_size=batch_size, lr=lr, num_epochs=ne, n_layers=layer, dropout=dropout, pooling=pooling)\n",
    "    model_path = l\n",
    "    state = torch.load(model_path)\n",
    "    model.load_state_dict(state)\n",
    "    training = evaluate.evaluate(model, train)\n",
    "    validation = evaluate.evaluate(model, val)\n",
    "    testing = evaluate.evaluate(model, test)\n",
    "    return training, validation, testing\n",
    "\n",
    "tr, vl, tst = [], [], []\n",
    "for l in ls:\n",
    "    try:\n",
    "        t, v, ts = find_test_acc(l)\n",
    "        tr.append(t)\n",
    "        vl.append(v)\n",
    "        tst.append(ts)\n",
    "    except:\n",
    "        print(l)\n",
    "        pass"
   ]
  },
  {
   "cell_type": "code",
   "execution_count": 14,
   "metadata": {},
   "outputs": [
    {
     "data": {
      "text/plain": [
       "(62, 62, 81)"
      ]
     },
     "execution_count": 14,
     "metadata": {},
     "output_type": "execute_result"
    }
   ],
   "source": [
    "np.argmin(tr), np.argmin(vl), np.argmin(tst)"
   ]
  },
  {
   "cell_type": "code",
   "execution_count": 17,
   "metadata": {},
   "outputs": [
    {
     "data": {
      "text/plain": [
       "(0.290336112308706, 0.2903970927000046, 0.2610151067908321)"
      ]
     },
     "execution_count": 17,
     "metadata": {},
     "output_type": "execute_result"
    }
   ],
   "source": [
    "tr[62], vl[62], tst[62]"
   ]
  },
  {
   "cell_type": "code",
   "execution_count": 19,
   "metadata": {},
   "outputs": [
    {
     "data": {
      "text/plain": [
       "'training/RNNl_64_0.01_100_2_0.0_max_9'"
      ]
     },
     "execution_count": 19,
     "metadata": {},
     "output_type": "execute_result"
    }
   ],
   "source": [
    "focus = ls[62]\n",
    "focus"
   ]
  },
  {
   "cell_type": "code",
   "execution_count": 24,
   "metadata": {},
   "outputs": [
    {
     "data": {
      "text/plain": [
       "<All keys matched successfully>"
      ]
     },
     "execution_count": 24,
     "metadata": {},
     "output_type": "execute_result"
    }
   ],
   "source": [
    "li = focus.split('_')\n",
    "batch_size, lr, ne, layer, dropout, pooling, epoch = tuple(li[1:])\n",
    "batch_size, ne, layer, epoch = int(batch_size), int(ne), int(layer), int(epoch)\n",
    "lr, dropout = float(lr), float(dropout)\n",
    "model = RNN('RNNl', batch_size=batch_size, lr=lr, num_epochs=ne, n_layers=layer, dropout=dropout, pooling=pooling)\n",
    "model_path = focus\n",
    "state = torch.load(model_path)\n",
    "model.load_state_dict(state)"
   ]
  },
  {
   "cell_type": "code",
   "execution_count": null,
   "metadata": {},
   "outputs": [],
   "source": [
    "training = evaluate.evaluate(model, train)\n",
    "validation = evaluate.evaluate(model, val)\n",
    "testing = evaluate.evaluate(model, test)"
   ]
  },
  {
   "cell_type": "code",
   "execution_count": 27,
   "metadata": {},
   "outputs": [
    {
     "name": "stderr",
     "output_type": "stream",
     "text": [
      "/Users/adil.quettawala/Documents/APS360/Project/APS360-project/synopsis-rnn/synopsis_rnn.py:77: SettingWithCopyWarning: \n",
      "A value is trying to be set on a copy of a slice from a DataFrame.\n",
      "Try using .loc[row_indexer,col_indexer] = value instead\n",
      "\n",
      "See the caveats in the documentation: https://pandas.pydata.org/pandas-docs/stable/user_guide/indexing.html#returning-a-view-versus-a-copy\n",
      "  df['popularity'] = (df['popularity'] - df['popularity'].min()) / (df['popularity'].max() - df['popularity'].min())\n",
      "/Users/adil.quettawala/Documents/APS360/Project/APS360-project/synopsis-rnn/synopsis_rnn.py:94: SettingWithCopyWarning: \n",
      "A value is trying to be set on a copy of a slice from a DataFrame.\n",
      "Try using .loc[row_indexer,col_indexer] = value instead\n",
      "\n",
      "See the caveats in the documentation: https://pandas.pydata.org/pandas-docs/stable/user_guide/indexing.html#returning-a-view-versus-a-copy\n",
      "  df['synopsis'] = df['synopsis'].map(process_example)\n",
      "/Users/adil.quettawala/Documents/APS360/Project/APS360-project/synopsis-rnn/synopsis_rnn.py:77: SettingWithCopyWarning: \n",
      "A value is trying to be set on a copy of a slice from a DataFrame.\n",
      "Try using .loc[row_indexer,col_indexer] = value instead\n",
      "\n",
      "See the caveats in the documentation: https://pandas.pydata.org/pandas-docs/stable/user_guide/indexing.html#returning-a-view-versus-a-copy\n",
      "  df['popularity'] = (df['popularity'] - df['popularity'].min()) / (df['popularity'].max() - df['popularity'].min())\n",
      "/Users/adil.quettawala/Documents/APS360/Project/APS360-project/synopsis-rnn/synopsis_rnn.py:94: SettingWithCopyWarning: \n",
      "A value is trying to be set on a copy of a slice from a DataFrame.\n",
      "Try using .loc[row_indexer,col_indexer] = value instead\n",
      "\n",
      "See the caveats in the documentation: https://pandas.pydata.org/pandas-docs/stable/user_guide/indexing.html#returning-a-view-versus-a-copy\n",
      "  df['synopsis'] = df['synopsis'].map(process_example)\n"
     ]
    },
    {
     "data": {
      "image/png": "[encoded data removed]",
      "text/plain": [
       "<Figure size 640x480 with 1 Axes>"
      ]
     },
     "metadata": {},
     "output_type": "display_data"
    },
    {
     "data": {
      "image/png": "[encoded data removed]",
      "text/plain": [
       "<Figure size 640x480 with 1 Axes>"
      ]
     },
     "metadata": {},
     "output_type": "display_data"
    },
    {
     "data": {
      "image/png": "[encoded data removed]",
      "text/plain": [
       "<Figure size 640x480 with 1 Axes>"
      ]
     },
     "metadata": {},
     "output_type": "display_data"
    }
   ],
   "source": [
    "preds = []\n",
    "labels_list = []\n",
    "\n",
    "train, val, max = get_data_loaders(dataset, batch_size=1)\n",
    "test_ds = animeDataset(df_test)\n",
    "test = DataLoader(test_ds, 1)\n",
    "\n",
    "for i, data in enumerate(test, 0):\n",
    "    inputs, labels = data\n",
    "    # print(inputs)\n",
    "    # print(labels)\n",
    "    pred = model(inputs)\n",
    "    preds.append(pred.item())\n",
    "    labels_list.append(labels.item())   \n",
    "\n",
    "import matplotlib.pyplot as plt\n",
    "plt.figure(1)\n",
    "plt.plot(labels_list, preds, 'bo')\n",
    "plt.plot(labels_list, labels_list, 'ro')\n",
    "plt.xlim(0.00, 1.00)\n",
    "plt.ylim(-0.00, 1.00)\n",
    "plt.title(\"test_predictions for popularity ranks\")\n",
    "plt.xlabel(\"True popularity rank (normalized)\")\n",
    "plt.ylabel(\"Predicted popularity rank (normalized)\")\n",
    "plt.show()\n",
    "\n",
    "preds = []\n",
    "labels_list = []\n",
    "for i, data in enumerate(val, 0):\n",
    "    inputs, labels = data\n",
    "    # print(inputs)\n",
    "    # print(labels)\n",
    "    pred = model(inputs)\n",
    "    preds.append(pred.item())\n",
    "    labels_list.append(labels.item())   \n",
    "plt.figure(2)\n",
    "plt.plot(labels_list, preds, 'bo')\n",
    "plt.plot(labels_list, labels_list, 'ro')\n",
    "plt.xlim(0.00, 1.00)\n",
    "plt.ylim(-0.00, 1.00)\n",
    "plt.title(\"val_predictions for popularity ranks\")\n",
    "plt.xlabel(\"True popularity rank (normalized)\")\n",
    "plt.ylabel(\"Predicted popularity rank (normalized)\")\n",
    "plt.show()\n",
    "\n",
    "preds = []\n",
    "labels_list = []\n",
    "for i, data in enumerate(train, 0):\n",
    "    inputs, labels = data\n",
    "    # print(inputs)\n",
    "    # print(labels)\n",
    "    pred = model(inputs)\n",
    "    preds.append(pred.item())\n",
    "    labels_list.append(labels.item())   \n",
    "plt.figure(3)\n",
    "plt.plot(labels_list, preds, 'bo')\n",
    "plt.plot(labels_list, labels_list, 'ro')\n",
    "plt.xlim(0.00, 1.00)\n",
    "plt.ylim(-0.00, 1.00)\n",
    "plt.title(\"train_predictions for popularity ranks\")\n",
    "plt.xlabel(\"True popularity rank (normalized)\")\n",
    "plt.ylabel(\"Predicted popularity rank (normalized)\")\n",
    "plt.show()\n"
   ]
  },
  {
   "cell_type": "code",
   "execution_count": null,
   "metadata": {},
   "outputs": [],
   "source": []
  }
 ],
 "metadata": {
  "kernelspec": {
   "display_name": "Python 3 (ipykernel)",
   "language": "python",
   "name": "python3"
  },
  "language_info": {
   "codemirror_mode": {
    "name": "ipython",
    "version": 3
   },
   "file_extension": ".py",
   "mimetype": "text/x-python",
   "name": "python",
   "nbconvert_exporter": "python",
   "pygments_lexer": "ipython3",
   "version": "3.9.18"
  }
 },
 "nbformat": 4,
 "nbformat_minor": 4
}
