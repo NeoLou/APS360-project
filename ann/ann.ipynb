{
 "cells": [
  {
   "cell_type": "markdown",
   "id": "ff83e527-e72f-4236-8a01-892ecfa47c8d",
   "metadata": {},
   "source": [
    "## Preprocess data"
   ]
  },
  {
   "cell_type": "code",
   "execution_count": 1,
   "id": "716a0f45-f490-4287-93bc-77d6b4767359",
   "metadata": {},
   "outputs": [
    {
     "name": "stdout",
     "output_type": "stream",
     "text": [
      "/home/compute/APS-360\n"
     ]
    }
   ],
   "source": [
    "cd .."
   ]
  },
  {
   "cell_type": "code",
   "execution_count": 2,
   "id": "8e410722-b660-4333-92e1-87b2ba2c4968",
   "metadata": {},
   "outputs": [],
   "source": [
    "import torch\n",
    "import torch.nn as nn\n",
    "import pandas as pd\n",
    "from common import model\n",
    "from common import evaluate\n",
    "from common import separate_test\n",
    "from torch.utils.data import Dataset, DataLoader\n",
    "from torchvision import transforms\n",
    "\n",
    "from ann import *"
   ]
  },
  {
   "cell_type": "code",
   "execution_count": 3,
   "id": "25c150fd-33fb-464e-899e-5ad2a8439032",
   "metadata": {},
   "outputs": [],
   "source": [
    "def day_to_num(day):\n",
    "    ls = ['sunday', 'monday', 'tuesday', 'wednesday', 'thursday', 'friday', 'saturday', 'other']\n",
    "    if day != 0:\n",
    "        return ls.index(day) + 1\n",
    "    return 0\n",
    "\n",
    "def time_to_num(time):\n",
    "    if time == 0:\n",
    "        return 0\n",
    "    time = time.replace(':', '')\n",
    "    return float(time)"
   ]
  },
  {
   "cell_type": "code",
   "execution_count": 4,
   "id": "f7473dbd-c578-4eb0-a5e1-d329f6ce60be",
   "metadata": {},
   "outputs": [],
   "source": [
    "df_data = pd.read_csv('balanced_animes_data_max_rank=5000.csv')\n",
    "df_data = df_data.fillna(0)\n",
    "df_data['broadcast_day_of_the_week'] = df_data['broadcast_day_of_the_week'].apply(day_to_num)\n",
    "df_data['broadcast_start_time'] = df_data['broadcast_start_time'].apply(time_to_num)\n",
    "\n",
    "test_ids = open(f'common/test_ids.txt', 'r').read()\n",
    "test_ids = test_ids.strip('[]')\n",
    "test_ids = test_ids.split(', ')\n",
    "test_ids = [int(t) for t in test_ids]\n",
    "\n",
    "if 'id' not in df_data.columns:\n",
    "    raise Exception(\"dataframe needs to have an 'id' column\")\n",
    "\n",
    "df_test = df_data[df_data['id'].isin(test_ids)]\n",
    "df_data_new = df_data[~(df_data['id'].isin(test_ids))]\n",
    "df_test = df_test.drop(labels=['id', 'unique_id'], axis=1)\n",
    "df_data_new = df_data_new.drop(labels=['id', 'unique_id'], axis=1)"
   ]
  },
  {
   "cell_type": "code",
   "execution_count": 5,
   "id": "fa91de9c-c589-4e52-8a74-4a18ac0861c6",
   "metadata": {},
   "outputs": [],
   "source": [
    "df_test = df_test.fillna(0)\n",
    "df_data_new = df_data_new.fillna(0)\n",
    "\n",
    "keep = ['popularity', 'broadcast_day_of_the_week', 'average_episode_duration', 'broadcast_start_time']\n",
    "for d in df_test.columns:\n",
    "    if 'id' in d:\n",
    "        keep.append(d)\n",
    "\n",
    "df_test = df_test[keep]\n",
    "df_data_new = df_data_new[keep]"
   ]
  },
  {
   "cell_type": "code",
   "execution_count": 6,
   "id": "b0e36ebb-0453-4b20-8056-bdc7b2508444",
   "metadata": {},
   "outputs": [],
   "source": [
    "df_test.to_csv('test_data')\n",
    "df_data_new.to_csv('train_val_data')"
   ]
  },
  {
   "cell_type": "code",
   "execution_count": 7,
   "id": "8c2297fa-87f5-4a50-b428-e721379d79a5",
   "metadata": {},
   "outputs": [
    {
     "data": {
      "text/plain": [
       "Index(['popularity', 'broadcast_day_of_the_week', 'average_episode_duration',\n",
       "       'broadcast_start_time', 'genres_0_id', 'genres_1_id', 'genres_2_id',\n",
       "       'genres_3_id', 'genres_4_id', 'genres_5_id', 'genres_6_id',\n",
       "       'genres_7_id', 'studios_0_id', 'studios_1_id', 'studios_2_id',\n",
       "       'genres_8_id', 'genres_9_id', 'genres_10_id', 'studios_3_id',\n",
       "       'studios_4_id', 'studios_5_id'],\n",
       "      dtype='object')"
      ]
     },
     "execution_count": 7,
     "metadata": {},
     "output_type": "execute_result"
    }
   ],
   "source": [
    "df_test.columns"
   ]
  },
  {
   "cell_type": "code",
   "execution_count": 16,
   "id": "5f5ceff4-7e04-435f-bd29-e411e3ac82bb",
   "metadata": {},
   "outputs": [
    {
     "data": {
      "text/html": [
       "<div>\n",
       "<style scoped>\n",
       "    .dataframe tbody tr th:only-of-type {\n",
       "        vertical-align: middle;\n",
       "    }\n",
       "\n",
       "    .dataframe tbody tr th {\n",
       "        vertical-align: top;\n",
       "    }\n",
       "\n",
       "    .dataframe thead th {\n",
       "        text-align: right;\n",
       "    }\n",
       "</style>\n",
       "<table border=\"1\" class=\"dataframe\">\n",
       "  <thead>\n",
       "    <tr style=\"text-align: right;\">\n",
       "      <th></th>\n",
       "      <th>unique_id</th>\n",
       "      <th>id</th>\n",
       "      <th>title</th>\n",
       "      <th>main_picture_medium</th>\n",
       "      <th>main_picture_large</th>\n",
       "      <th>start_date</th>\n",
       "      <th>end_date</th>\n",
       "      <th>synopsis</th>\n",
       "      <th>mean</th>\n",
       "      <th>rank</th>\n",
       "      <th>...</th>\n",
       "      <th>genres_9_id</th>\n",
       "      <th>genres_9_name</th>\n",
       "      <th>genres_10_id</th>\n",
       "      <th>genres_10_name</th>\n",
       "      <th>studios_3_id</th>\n",
       "      <th>studios_3_name</th>\n",
       "      <th>studios_4_id</th>\n",
       "      <th>studios_4_name</th>\n",
       "      <th>studios_5_id</th>\n",
       "      <th>studios_5_name</th>\n",
       "    </tr>\n",
       "    <tr>\n",
       "      <th>studios_0_name</th>\n",
       "      <th></th>\n",
       "      <th></th>\n",
       "      <th></th>\n",
       "      <th></th>\n",
       "      <th></th>\n",
       "      <th></th>\n",
       "      <th></th>\n",
       "      <th></th>\n",
       "      <th></th>\n",
       "      <th></th>\n",
       "      <th></th>\n",
       "      <th></th>\n",
       "      <th></th>\n",
       "      <th></th>\n",
       "      <th></th>\n",
       "      <th></th>\n",
       "      <th></th>\n",
       "      <th></th>\n",
       "      <th></th>\n",
       "      <th></th>\n",
       "      <th></th>\n",
       "    </tr>\n",
       "  </thead>\n",
       "  <tbody>\n",
       "    <tr>\n",
       "      <th>8bit</th>\n",
       "      <td>44</td>\n",
       "      <td>44</td>\n",
       "      <td>44</td>\n",
       "      <td>44</td>\n",
       "      <td>44</td>\n",
       "      <td>44</td>\n",
       "      <td>44</td>\n",
       "      <td>44</td>\n",
       "      <td>44</td>\n",
       "      <td>44</td>\n",
       "      <td>...</td>\n",
       "      <td>44</td>\n",
       "      <td>44</td>\n",
       "      <td>44</td>\n",
       "      <td>44</td>\n",
       "      <td>44</td>\n",
       "      <td>44</td>\n",
       "      <td>44</td>\n",
       "      <td>44</td>\n",
       "      <td>44</td>\n",
       "      <td>44</td>\n",
       "    </tr>\n",
       "    <tr>\n",
       "      <th>A-1 Pictures</th>\n",
       "      <td>134</td>\n",
       "      <td>134</td>\n",
       "      <td>134</td>\n",
       "      <td>134</td>\n",
       "      <td>134</td>\n",
       "      <td>134</td>\n",
       "      <td>134</td>\n",
       "      <td>134</td>\n",
       "      <td>134</td>\n",
       "      <td>134</td>\n",
       "      <td>...</td>\n",
       "      <td>134</td>\n",
       "      <td>134</td>\n",
       "      <td>134</td>\n",
       "      <td>134</td>\n",
       "      <td>134</td>\n",
       "      <td>134</td>\n",
       "      <td>134</td>\n",
       "      <td>134</td>\n",
       "      <td>134</td>\n",
       "      <td>134</td>\n",
       "    </tr>\n",
       "    <tr>\n",
       "      <th>A.C.G.T.</th>\n",
       "      <td>20</td>\n",
       "      <td>20</td>\n",
       "      <td>20</td>\n",
       "      <td>20</td>\n",
       "      <td>20</td>\n",
       "      <td>20</td>\n",
       "      <td>20</td>\n",
       "      <td>20</td>\n",
       "      <td>20</td>\n",
       "      <td>20</td>\n",
       "      <td>...</td>\n",
       "      <td>20</td>\n",
       "      <td>20</td>\n",
       "      <td>20</td>\n",
       "      <td>20</td>\n",
       "      <td>20</td>\n",
       "      <td>20</td>\n",
       "      <td>20</td>\n",
       "      <td>20</td>\n",
       "      <td>20</td>\n",
       "      <td>20</td>\n",
       "    </tr>\n",
       "    <tr>\n",
       "      <th>AIC</th>\n",
       "      <td>52</td>\n",
       "      <td>52</td>\n",
       "      <td>52</td>\n",
       "      <td>52</td>\n",
       "      <td>52</td>\n",
       "      <td>52</td>\n",
       "      <td>52</td>\n",
       "      <td>52</td>\n",
       "      <td>52</td>\n",
       "      <td>52</td>\n",
       "      <td>...</td>\n",
       "      <td>52</td>\n",
       "      <td>52</td>\n",
       "      <td>52</td>\n",
       "      <td>52</td>\n",
       "      <td>52</td>\n",
       "      <td>52</td>\n",
       "      <td>52</td>\n",
       "      <td>52</td>\n",
       "      <td>52</td>\n",
       "      <td>52</td>\n",
       "    </tr>\n",
       "    <tr>\n",
       "      <th>AIC ASTA</th>\n",
       "      <td>15</td>\n",
       "      <td>15</td>\n",
       "      <td>15</td>\n",
       "      <td>15</td>\n",
       "      <td>15</td>\n",
       "      <td>15</td>\n",
       "      <td>15</td>\n",
       "      <td>15</td>\n",
       "      <td>15</td>\n",
       "      <td>15</td>\n",
       "      <td>...</td>\n",
       "      <td>15</td>\n",
       "      <td>15</td>\n",
       "      <td>15</td>\n",
       "      <td>15</td>\n",
       "      <td>15</td>\n",
       "      <td>15</td>\n",
       "      <td>15</td>\n",
       "      <td>15</td>\n",
       "      <td>15</td>\n",
       "      <td>15</td>\n",
       "    </tr>\n",
       "    <tr>\n",
       "      <th>...</th>\n",
       "      <td>...</td>\n",
       "      <td>...</td>\n",
       "      <td>...</td>\n",
       "      <td>...</td>\n",
       "      <td>...</td>\n",
       "      <td>...</td>\n",
       "      <td>...</td>\n",
       "      <td>...</td>\n",
       "      <td>...</td>\n",
       "      <td>...</td>\n",
       "      <td>...</td>\n",
       "      <td>...</td>\n",
       "      <td>...</td>\n",
       "      <td>...</td>\n",
       "      <td>...</td>\n",
       "      <td>...</td>\n",
       "      <td>...</td>\n",
       "      <td>...</td>\n",
       "      <td>...</td>\n",
       "      <td>...</td>\n",
       "      <td>...</td>\n",
       "    </tr>\n",
       "    <tr>\n",
       "      <th>lxtl</th>\n",
       "      <td>1</td>\n",
       "      <td>1</td>\n",
       "      <td>1</td>\n",
       "      <td>1</td>\n",
       "      <td>1</td>\n",
       "      <td>1</td>\n",
       "      <td>1</td>\n",
       "      <td>1</td>\n",
       "      <td>1</td>\n",
       "      <td>1</td>\n",
       "      <td>...</td>\n",
       "      <td>1</td>\n",
       "      <td>1</td>\n",
       "      <td>1</td>\n",
       "      <td>1</td>\n",
       "      <td>1</td>\n",
       "      <td>1</td>\n",
       "      <td>1</td>\n",
       "      <td>1</td>\n",
       "      <td>1</td>\n",
       "      <td>1</td>\n",
       "    </tr>\n",
       "    <tr>\n",
       "      <th>production doA</th>\n",
       "      <td>2</td>\n",
       "      <td>2</td>\n",
       "      <td>2</td>\n",
       "      <td>2</td>\n",
       "      <td>2</td>\n",
       "      <td>2</td>\n",
       "      <td>2</td>\n",
       "      <td>2</td>\n",
       "      <td>2</td>\n",
       "      <td>2</td>\n",
       "      <td>...</td>\n",
       "      <td>2</td>\n",
       "      <td>2</td>\n",
       "      <td>2</td>\n",
       "      <td>2</td>\n",
       "      <td>2</td>\n",
       "      <td>2</td>\n",
       "      <td>2</td>\n",
       "      <td>2</td>\n",
       "      <td>2</td>\n",
       "      <td>2</td>\n",
       "    </tr>\n",
       "    <tr>\n",
       "      <th>studio MOTHER</th>\n",
       "      <td>1</td>\n",
       "      <td>1</td>\n",
       "      <td>1</td>\n",
       "      <td>1</td>\n",
       "      <td>1</td>\n",
       "      <td>1</td>\n",
       "      <td>1</td>\n",
       "      <td>1</td>\n",
       "      <td>1</td>\n",
       "      <td>1</td>\n",
       "      <td>...</td>\n",
       "      <td>1</td>\n",
       "      <td>1</td>\n",
       "      <td>1</td>\n",
       "      <td>1</td>\n",
       "      <td>1</td>\n",
       "      <td>1</td>\n",
       "      <td>1</td>\n",
       "      <td>1</td>\n",
       "      <td>1</td>\n",
       "      <td>1</td>\n",
       "    </tr>\n",
       "    <tr>\n",
       "      <th>ufotable</th>\n",
       "      <td>25</td>\n",
       "      <td>25</td>\n",
       "      <td>25</td>\n",
       "      <td>25</td>\n",
       "      <td>25</td>\n",
       "      <td>25</td>\n",
       "      <td>25</td>\n",
       "      <td>25</td>\n",
       "      <td>25</td>\n",
       "      <td>25</td>\n",
       "      <td>...</td>\n",
       "      <td>25</td>\n",
       "      <td>25</td>\n",
       "      <td>25</td>\n",
       "      <td>25</td>\n",
       "      <td>25</td>\n",
       "      <td>25</td>\n",
       "      <td>25</td>\n",
       "      <td>25</td>\n",
       "      <td>25</td>\n",
       "      <td>25</td>\n",
       "    </tr>\n",
       "    <tr>\n",
       "      <th>unknown</th>\n",
       "      <td>2</td>\n",
       "      <td>2</td>\n",
       "      <td>2</td>\n",
       "      <td>2</td>\n",
       "      <td>2</td>\n",
       "      <td>2</td>\n",
       "      <td>2</td>\n",
       "      <td>2</td>\n",
       "      <td>2</td>\n",
       "      <td>2</td>\n",
       "      <td>...</td>\n",
       "      <td>2</td>\n",
       "      <td>2</td>\n",
       "      <td>2</td>\n",
       "      <td>2</td>\n",
       "      <td>2</td>\n",
       "      <td>2</td>\n",
       "      <td>2</td>\n",
       "      <td>2</td>\n",
       "      <td>2</td>\n",
       "      <td>2</td>\n",
       "    </tr>\n",
       "  </tbody>\n",
       "</table>\n",
       "<p>239 rows × 57 columns</p>\n",
       "</div>"
      ],
      "text/plain": [
       "                unique_id   id  title  main_picture_medium  \\\n",
       "studios_0_name                                               \n",
       "8bit                   44   44     44                   44   \n",
       "A-1 Pictures          134  134    134                  134   \n",
       "A.C.G.T.               20   20     20                   20   \n",
       "AIC                    52   52     52                   52   \n",
       "AIC ASTA               15   15     15                   15   \n",
       "...                   ...  ...    ...                  ...   \n",
       "lxtl                    1    1      1                    1   \n",
       "production doA          2    2      2                    2   \n",
       "studio MOTHER           1    1      1                    1   \n",
       "ufotable               25   25     25                   25   \n",
       "unknown                 2    2      2                    2   \n",
       "\n",
       "                main_picture_large  start_date  end_date  synopsis  mean  \\\n",
       "studios_0_name                                                             \n",
       "8bit                            44          44        44        44    44   \n",
       "A-1 Pictures                   134         134       134       134   134   \n",
       "A.C.G.T.                        20          20        20        20    20   \n",
       "AIC                             52          52        52        52    52   \n",
       "AIC ASTA                        15          15        15        15    15   \n",
       "...                            ...         ...       ...       ...   ...   \n",
       "lxtl                             1           1         1         1     1   \n",
       "production doA                   2           2         2         2     2   \n",
       "studio MOTHER                    1           1         1         1     1   \n",
       "ufotable                        25          25        25        25    25   \n",
       "unknown                          2           2         2         2     2   \n",
       "\n",
       "                rank  ...  genres_9_id  genres_9_name  genres_10_id  \\\n",
       "studios_0_name        ...                                             \n",
       "8bit              44  ...           44             44            44   \n",
       "A-1 Pictures     134  ...          134            134           134   \n",
       "A.C.G.T.          20  ...           20             20            20   \n",
       "AIC               52  ...           52             52            52   \n",
       "AIC ASTA          15  ...           15             15            15   \n",
       "...              ...  ...          ...            ...           ...   \n",
       "lxtl               1  ...            1              1             1   \n",
       "production doA     2  ...            2              2             2   \n",
       "studio MOTHER      1  ...            1              1             1   \n",
       "ufotable          25  ...           25             25            25   \n",
       "unknown            2  ...            2              2             2   \n",
       "\n",
       "                genres_10_name  studios_3_id  studios_3_name  studios_4_id  \\\n",
       "studios_0_name                                                               \n",
       "8bit                        44            44              44            44   \n",
       "A-1 Pictures               134           134             134           134   \n",
       "A.C.G.T.                    20            20              20            20   \n",
       "AIC                         52            52              52            52   \n",
       "AIC ASTA                    15            15              15            15   \n",
       "...                        ...           ...             ...           ...   \n",
       "lxtl                         1             1               1             1   \n",
       "production doA               2             2               2             2   \n",
       "studio MOTHER                1             1               1             1   \n",
       "ufotable                    25            25              25            25   \n",
       "unknown                      2             2               2             2   \n",
       "\n",
       "                studios_4_name  studios_5_id  studios_5_name  \n",
       "studios_0_name                                                \n",
       "8bit                        44            44              44  \n",
       "A-1 Pictures               134           134             134  \n",
       "A.C.G.T.                    20            20              20  \n",
       "AIC                         52            52              52  \n",
       "AIC ASTA                    15            15              15  \n",
       "...                        ...           ...             ...  \n",
       "lxtl                         1             1               1  \n",
       "production doA               2             2               2  \n",
       "studio MOTHER                1             1               1  \n",
       "ufotable                    25            25              25  \n",
       "unknown                      2             2               2  \n",
       "\n",
       "[239 rows x 57 columns]"
      ]
     },
     "execution_count": 16,
     "metadata": {},
     "output_type": "execute_result"
    }
   ],
   "source": [
    "df_data.groupby('studios_0_name').count()"
   ]
  },
  {
   "cell_type": "code",
   "execution_count": 10,
   "id": "779289e0-5024-4095-9f8a-f54e38d2401b",
   "metadata": {},
   "outputs": [
    {
     "data": {
      "text/plain": [
       "21"
      ]
     },
     "execution_count": 10,
     "metadata": {},
     "output_type": "execute_result"
    }
   ],
   "source": [
    "len(df_data_new.columns)"
   ]
  },
  {
   "cell_type": "markdown",
   "id": "69021dec-7ed1-4b1e-82e8-5be9ad9a025e",
   "metadata": {},
   "source": [
    "## Train Model"
   ]
  },
  {
   "cell_type": "code",
   "execution_count": 1,
   "id": "6488eb26-02cf-4ac4-9c2e-fd878e183e51",
   "metadata": {},
   "outputs": [
    {
     "name": "stdout",
     "output_type": "stream",
     "text": [
      "/home/compute/APS-360\n"
     ]
    }
   ],
   "source": [
    "cd .."
   ]
  },
  {
   "cell_type": "code",
   "execution_count": 2,
   "id": "b3dc91da-e2e9-4914-8c57-3227cb0d9570",
   "metadata": {},
   "outputs": [],
   "source": [
    "import torch\n",
    "import torch.nn as nn\n",
    "from torch.nn import functional as F\n",
    "import pandas as pd\n",
    "from common import model\n",
    "from common import evaluate\n",
    "from common import separate_test\n",
    "from torch.utils.data import Dataset, DataLoader\n",
    "from torchvision import transforms\n",
    "\n",
    "from ann import *"
   ]
  },
  {
   "cell_type": "code",
   "execution_count": 3,
   "id": "ed5485c6-d7e5-4a2e-bf93-a8f61a6d23f9",
   "metadata": {},
   "outputs": [],
   "source": [
    "dataset='train_val_data'\n",
    "test_dataset = 'test_data'"
   ]
  },
  {
   "cell_type": "markdown",
   "id": "fd46c8d1-befb-4985-b173-9a4c61af44f0",
   "metadata": {},
   "source": [
    "### Tune # of Layers"
   ]
  },
  {
   "cell_type": "code",
   "execution_count": 4,
   "id": "16b5a4b0-870b-46f4-9e05-3f5db1000067",
   "metadata": {},
   "outputs": [
    {
     "name": "stderr",
     "output_type": "stream",
     "text": [
      "/home/compute/APS-360/ann/ann.py:54: FutureWarning: Series.__getitem__ treating keys as positions is deprecated. In a future version, integer keys will always be treated as labels (consistent with DataFrame behavior). To access a value by position, use `ser.iloc[pos]`\n",
      "  data = torch.tensor(row[2:]).float()\n",
      "/home/compute/APS-360/ann/ann.py:54: FutureWarning: Series.__getitem__ treating keys as positions is deprecated. In a future version, integer keys will always be treated as labels (consistent with DataFrame behavior). To access a value by position, use `ser.iloc[pos]`\n",
      "  data = torch.tensor(row[2:]).float()\n",
      "/home/compute/APS-360/ann/ann.py:54: FutureWarning: Series.__getitem__ treating keys as positions is deprecated. In a future version, integer keys will always be treated as labels (consistent with DataFrame behavior). To access a value by position, use `ser.iloc[pos]`\n",
      "  data = torch.tensor(row[2:]).float()\n"
     ]
    }
   ],
   "source": [
    "#READY TO RUN\n",
    "#This function allows us to loop through the data to train on three different NUMBER OF LAYERS\n",
    "for l in [4, 8, 16]:\n",
    "    ann = ANN('ANNl', 64, 0.01, 75, l, 32, F.relu)\n",
    "    ann.to('cuda')\n",
    "    train, val = get_data_loaders(dataset, ann.batch_size)\n",
    "    model.train_model(ann, train, val)"
   ]
  },
  {
   "cell_type": "markdown",
   "id": "e609f026-3cc5-476e-83eb-52d57686d864",
   "metadata": {},
   "source": [
    "### Tune hidden_size"
   ]
  },
  {
   "cell_type": "code",
   "execution_count": 5,
   "id": "0bb808ef-72f1-4952-a3a9-81ef3f141226",
   "metadata": {},
   "outputs": [
    {
     "name": "stderr",
     "output_type": "stream",
     "text": [
      "/home/compute/APS-360/ann/ann.py:54: FutureWarning: Series.__getitem__ treating keys as positions is deprecated. In a future version, integer keys will always be treated as labels (consistent with DataFrame behavior). To access a value by position, use `ser.iloc[pos]`\n",
      "  data = torch.tensor(row[2:]).float()\n",
      "/home/compute/APS-360/ann/ann.py:54: FutureWarning: Series.__getitem__ treating keys as positions is deprecated. In a future version, integer keys will always be treated as labels (consistent with DataFrame behavior). To access a value by position, use `ser.iloc[pos]`\n",
      "  data = torch.tensor(row[2:]).float()\n",
      "/home/compute/APS-360/ann/ann.py:54: FutureWarning: Series.__getitem__ treating keys as positions is deprecated. In a future version, integer keys will always be treated as labels (consistent with DataFrame behavior). To access a value by position, use `ser.iloc[pos]`\n",
      "  data = torch.tensor(row[2:]).float()\n"
     ]
    }
   ],
   "source": [
    "#READY TO RUN\n",
    "#This function allows us to loop through the data to train on three different NUMBER OF LAYERS\n",
    "for h in [16, 32, 64]:\n",
    "    ann = ANN('ANNh', 64, 0.01, 75, 8, h, F.relu)\n",
    "    ann.to('cuda')\n",
    "    train, val = get_data_loaders(dataset, ann.batch_size)\n",
    "    model.train_model(ann, train, val)"
   ]
  },
  {
   "cell_type": "markdown",
   "id": "f9f9cd0a-0b2d-476e-842a-0c16737b2492",
   "metadata": {},
   "source": [
    "### Tune activation func"
   ]
  },
  {
   "cell_type": "code",
   "execution_count": 6,
   "id": "1d68c579-483b-40a9-ae75-ba91149ecdb4",
   "metadata": {},
   "outputs": [
    {
     "name": "stderr",
     "output_type": "stream",
     "text": [
      "/home/compute/APS-360/ann/ann.py:54: FutureWarning: Series.__getitem__ treating keys as positions is deprecated. In a future version, integer keys will always be treated as labels (consistent with DataFrame behavior). To access a value by position, use `ser.iloc[pos]`\n",
      "  data = torch.tensor(row[2:]).float()\n",
      "/home/compute/APS-360/ann/ann.py:54: FutureWarning: Series.__getitem__ treating keys as positions is deprecated. In a future version, integer keys will always be treated as labels (consistent with DataFrame behavior). To access a value by position, use `ser.iloc[pos]`\n",
      "  data = torch.tensor(row[2:]).float()\n",
      "/home/compute/APS-360/ann/ann.py:54: FutureWarning: Series.__getitem__ treating keys as positions is deprecated. In a future version, integer keys will always be treated as labels (consistent with DataFrame behavior). To access a value by position, use `ser.iloc[pos]`\n",
      "  data = torch.tensor(row[2:]).float()\n"
     ]
    }
   ],
   "source": [
    "#READY TO RUN\n",
    "#This function allows us to loop through the data to train on three different NUMBER OF LAYERS\n",
    "for f in [F.relu, F.tanh, F.hardswish]:\n",
    "    ann = ANN('ANNf', 64, 0.01, 75, 8, 32, f)\n",
    "    ann.to('cuda')\n",
    "    train, val = get_data_loaders(dataset, ann.batch_size)\n",
    "    model.train_model(ann, train, val)"
   ]
  },
  {
   "cell_type": "markdown",
   "id": "443a3c7b-05e3-4a39-b69b-091194067731",
   "metadata": {},
   "source": [
    "### Tune activation batch_size"
   ]
  },
  {
   "cell_type": "code",
   "execution_count": 7,
   "id": "29a39e15-03f1-42b0-aa17-358039ee486b",
   "metadata": {},
   "outputs": [
    {
     "name": "stderr",
     "output_type": "stream",
     "text": [
      "/home/compute/APS-360/ann/ann.py:54: FutureWarning: Series.__getitem__ treating keys as positions is deprecated. In a future version, integer keys will always be treated as labels (consistent with DataFrame behavior). To access a value by position, use `ser.iloc[pos]`\n",
      "  data = torch.tensor(row[2:]).float()\n",
      "/home/compute/APS-360/ann/ann.py:54: FutureWarning: Series.__getitem__ treating keys as positions is deprecated. In a future version, integer keys will always be treated as labels (consistent with DataFrame behavior). To access a value by position, use `ser.iloc[pos]`\n",
      "  data = torch.tensor(row[2:]).float()\n",
      "/home/compute/APS-360/ann/ann.py:54: FutureWarning: Series.__getitem__ treating keys as positions is deprecated. In a future version, integer keys will always be treated as labels (consistent with DataFrame behavior). To access a value by position, use `ser.iloc[pos]`\n",
      "  data = torch.tensor(row[2:]).float()\n"
     ]
    }
   ],
   "source": [
    "#READY TO RUN\n",
    "#This function allows us to loop through the data to train on three different NUMBER OF LAYERS\n",
    "for b in [32, 64, 128]:\n",
    "    ann = ANN('ANNb', b, 0.01, 75, 8, 32, F.relu)\n",
    "    ann.to('cuda')\n",
    "    train, val = get_data_loaders(dataset, ann.batch_size)\n",
    "    model.train_model(ann, train, val)"
   ]
  },
  {
   "cell_type": "markdown",
   "id": "fd752612-243a-46aa-802d-886726622a16",
   "metadata": {},
   "source": [
    "### Tune activation lr"
   ]
  },
  {
   "cell_type": "code",
   "execution_count": 8,
   "id": "3a481eca-9df2-44fe-8ef3-d91a24a6502f",
   "metadata": {},
   "outputs": [
    {
     "name": "stderr",
     "output_type": "stream",
     "text": [
      "/home/compute/APS-360/ann/ann.py:54: FutureWarning: Series.__getitem__ treating keys as positions is deprecated. In a future version, integer keys will always be treated as labels (consistent with DataFrame behavior). To access a value by position, use `ser.iloc[pos]`\n",
      "  data = torch.tensor(row[2:]).float()\n",
      "/home/compute/APS-360/ann/ann.py:54: FutureWarning: Series.__getitem__ treating keys as positions is deprecated. In a future version, integer keys will always be treated as labels (consistent with DataFrame behavior). To access a value by position, use `ser.iloc[pos]`\n",
      "  data = torch.tensor(row[2:]).float()\n",
      "/home/compute/APS-360/ann/ann.py:54: FutureWarning: Series.__getitem__ treating keys as positions is deprecated. In a future version, integer keys will always be treated as labels (consistent with DataFrame behavior). To access a value by position, use `ser.iloc[pos]`\n",
      "  data = torch.tensor(row[2:]).float()\n"
     ]
    }
   ],
   "source": [
    "#READY TO RUN\n",
    "#This function allows us to loop through the data to train on three different NUMBER OF LAYERS\n",
    "for lr in [0.01, 0.05, 0.1]:\n",
    "    ann = ANN('ANNlr', 64, lr, 75, 8, 32, F.relu)\n",
    "    ann.to('cuda')\n",
    "    train, val = get_data_loaders(dataset, ann.batch_size)\n",
    "    model.train_model(ann, train, val)"
   ]
  },
  {
   "cell_type": "code",
   "execution_count": 4,
   "id": "0a0bd6e7-9f05-4213-b6b6-5bde44a760e6",
   "metadata": {},
   "outputs": [
    {
     "name": "stdout",
     "output_type": "stream",
     "text": [
      "[0.2456844631341071, 71, 'training/ANNf_64_0.01_75_8_32_hardswish_74_val_loss.csv']\n"
     ]
    },
    {
     "data": {
      "text/plain": [
       "[0.2456844631341071,\n",
       " 71,\n",
       " 'training/ANNf_64_0.01_75_8_32_hardswish_74_val_loss.csv']"
      ]
     },
     "execution_count": 4,
     "metadata": {},
     "output_type": "execute_result"
    }
   ],
   "source": [
    "evaluate.get_best_loss('ANN')"
   ]
  },
  {
   "cell_type": "markdown",
   "id": "a2b1a706-c37b-4381-9ebd-3b66a03a77a4",
   "metadata": {},
   "source": [
    "## Train best model for another 30 epochs"
   ]
  },
  {
   "cell_type": "code",
   "execution_count": 3,
   "id": "40f63609-7d10-4e89-8c1a-348b196308a6",
   "metadata": {},
   "outputs": [
    {
     "name": "stderr",
     "output_type": "stream",
     "text": [
      "/home/compute/APS-360/ann/ann.py:54: FutureWarning: Series.__getitem__ treating keys as positions is deprecated. In a future version, integer keys will always be treated as labels (consistent with DataFrame behavior). To access a value by position, use `ser.iloc[pos]`\n",
      "  data = torch.tensor(row[2:]).float()\n"
     ]
    }
   ],
   "source": [
    "net = ANN('anneval', 64, 0.01, 30, 8, 32, F.hardswish)\n",
    "model_path = 'training/ANNf_64_0.01_75_8_32_hardswish_71'\n",
    "state = torch.load(model_path)\n",
    "net.load_state_dict(state)\n",
    "\n",
    "torch.manual_seed(0)\n",
    "train, val = get_data_loaders('train_val_data', 64)\n",
    "net.to('cuda')\n",
    "model.train_model(net, train, val)"
   ]
  },
  {
   "cell_type": "markdown",
   "id": "34987589-4411-4f21-9a8f-29dd4e5dd321",
   "metadata": {},
   "source": [
    "## Evaluate"
   ]
  },
  {
   "cell_type": "code",
   "execution_count": 1,
   "id": "dd6bfdc9-fc60-4d00-8349-362730a7caf2",
   "metadata": {},
   "outputs": [
    {
     "name": "stdout",
     "output_type": "stream",
     "text": [
      "/home/compute/APS-360\n"
     ]
    }
   ],
   "source": [
    "cd .."
   ]
  },
  {
   "cell_type": "code",
   "execution_count": 2,
   "id": "ca189dde-dcfc-4293-9cf0-d579d75c417e",
   "metadata": {},
   "outputs": [],
   "source": [
    "import torch\n",
    "import torch.nn as nn\n",
    "import pandas as pd\n",
    "from common import model\n",
    "from common import evaluate\n",
    "from torch.utils.data import Dataset, DataLoader\n",
    "from torch.nn import functional as F\n",
    "\n",
    "from ann import *\n",
    "\n",
    "from glob import glob\n",
    "import numpy as np\n",
    "import math"
   ]
  },
  {
   "cell_type": "code",
   "execution_count": 3,
   "id": "bc05a53c-6c08-4692-bd03-c8187daa4746",
   "metadata": {},
   "outputs": [],
   "source": [
    "train, val = get_data_loaders('train_val_data', 64)\n",
    "test = get_data_loaders('test_data', 64)"
   ]
  },
  {
   "cell_type": "code",
   "execution_count": 24,
   "id": "67976fca-3617-4821-913b-8fd495cd1bc2",
   "metadata": {},
   "outputs": [
    {
     "data": {
      "text/plain": [
       "<All keys matched successfully>"
      ]
     },
     "execution_count": 24,
     "metadata": {},
     "output_type": "execute_result"
    }
   ],
   "source": [
    "model = ANN('anneval', 64, 0.01, 75, 8, 32, F.hardswish)\n",
    "model_path = 'training/ANNf_64_0.01_75_8_32_hardswish_71'\n",
    "state = torch.load(model_path)\n",
    "model.load_state_dict(state)"
   ]
  },
  {
   "cell_type": "code",
   "execution_count": 7,
   "id": "355d3b9e-8b3c-438f-ad97-aea396f62b1f",
   "metadata": {},
   "outputs": [
    {
     "data": {
      "text/plain": [
       "(0.23126714993172323, 0.22238007349939354, 0.28535890855209944)"
      ]
     },
     "execution_count": 7,
     "metadata": {},
     "output_type": "execute_result"
    }
   ],
   "source": [
    "torch.manual_seed(0)\n",
    "evaluate.evaluate(model, train), evaluate.evaluate(model, val), evaluate.evaluate(model, test)"
   ]
  },
  {
   "cell_type": "code",
   "execution_count": 9,
   "id": "5a000d49-71e7-4f5b-adde-ff999c083a67",
   "metadata": {},
   "outputs": [
    {
     "name": "stderr",
     "output_type": "stream",
     "text": [
      "/home/compute/APS-360/ann/ann.py:54: FutureWarning: Series.__getitem__ treating keys as positions is deprecated. In a future version, integer keys will always be treated as labels (consistent with DataFrame behavior). To access a value by position, use `ser.iloc[pos]`\n",
      "  data = torch.tensor(row[2:]).float()\n"
     ]
    },
    {
     "data": {
      "image/png": "[encoded data removed]",
      "text/plain": [
       "<Figure size 640x480 with 1 Axes>"
      ]
     },
     "metadata": {},
     "output_type": "display_data"
    },
    {
     "data": {
      "image/png": "[encoded data removed]",
      "text/plain": [
       "<Figure size 640x480 with 1 Axes>"
      ]
     },
     "metadata": {},
     "output_type": "display_data"
    },
    {
     "data": {
      "image/png": "[encoded data removed]",
      "text/plain": [
       "<Figure size 640x480 with 1 Axes>"
      ]
     },
     "metadata": {},
     "output_type": "display_data"
    }
   ],
   "source": [
    "preds = []\n",
    "labels_list = []\n",
    "\n",
    "train, val = get_data_loaders('train_val_data', 1)\n",
    "test = get_data_loaders('test_data', 1)\n",
    "\n",
    "for i, data in enumerate(test, 0):\n",
    "    inputs, labels = data\n",
    "    pred = model(inputs)\n",
    "    preds.append(pred.item())\n",
    "    labels_list.append(labels.item())\n",
    "\n",
    "import matplotlib.pyplot as plt\n",
    "plt.figure(1)\n",
    "plt.plot(labels_list, preds, 'bo')\n",
    "plt.plot(labels_list, labels_list, 'ro')\n",
    "# plt.xlim(0.00, 1.00)\n",
    "# plt.ylim(-0.00, 1.00)\n",
    "plt.title(\"test_predictions for popularity ranks\")\n",
    "plt.xlabel(\"True popularity rank (normalized)\")\n",
    "plt.ylabel(\"Predicted popularity rank (normalized)\")\n",
    "plt.savefig('ANN_test_plot')\n",
    "plt.show()\n",
    "\n",
    "preds = []\n",
    "labels_list = []\n",
    "for i, data in enumerate(val, 0):\n",
    "    inputs, labels = data\n",
    "    # print(inputs)\n",
    "    # print(labels)\n",
    "    pred = model(inputs)\n",
    "    preds.append(pred.item())\n",
    "    labels_list.append(labels.item())   \n",
    "plt.figure(2)\n",
    "plt.plot(labels_list, preds, 'bo')\n",
    "plt.plot(labels_list, labels_list, 'ro')\n",
    "# plt.xlim(0.00, 1.00)\n",
    "# plt.ylim(-0.00, 1.00)\n",
    "plt.title(\"val_predictions for popularity ranks\")\n",
    "plt.xlabel(\"True popularity rank (normalized)\")\n",
    "plt.ylabel(\"Predicted popularity rank (normalized)\")\n",
    "plt.savefig('ANN_val_plot')\n",
    "plt.show()\n",
    "\n",
    "preds = []\n",
    "labels_list = []\n",
    "for i, data in enumerate(train, 0):\n",
    "    inputs, labels = data\n",
    "    # print(inputs)\n",
    "    # print(labels)\n",
    "    pred = model(inputs)\n",
    "    preds.append(pred.item())\n",
    "    labels_list.append(labels.item())   \n",
    "plt.figure(3)\n",
    "plt.plot(labels_list, preds, 'bo')\n",
    "plt.plot(labels_list, labels_list, 'ro')\n",
    "# plt.xlim(0.00, 1.00)\n",
    "# plt.ylim(-0.00, 1.00)\n",
    "plt.title(\"train_predictions for popularity ranks\")\n",
    "plt.xlabel(\"True popularity rank (normalized)\")\n",
    "plt.ylabel(\"Predicted popularity rank (normalized)\")\n",
    "plt.savefig('ANN_train_plot')\n",
    "plt.show()"
   ]
  },
  {
   "cell_type": "code",
   "execution_count": 3,
   "id": "c47d20be-94ff-47a6-9bf0-507332bf5f13",
   "metadata": {},
   "outputs": [],
   "source": [
    "def day_to_num(day):\n",
    "    ls = ['sunday', 'monday', 'tuesday', 'wednesday', 'thursday', 'friday', 'saturday', 'other']\n",
    "    if day != 0:\n",
    "        return ls.index(day) + 1\n",
    "    return 0\n",
    "\n",
    "def time_to_num(time):\n",
    "    if time == 0:\n",
    "        return 0\n",
    "    time = time.replace(':', '')\n",
    "    return float(time)"
   ]
  },
  {
   "cell_type": "code",
   "execution_count": 20,
   "id": "36666297-1052-45bc-bf2d-af9700df240c",
   "metadata": {},
   "outputs": [],
   "source": [
    "# df_data = pd.read_csv('new_test_animes_data.csv')\n",
    "# df_data = df_data.fillna(0)\n",
    "df_data['broadcast_day_of_the_week'] = df_data['broadcast_day_of_the_week'].apply(day_to_num)\n",
    "df_data['broadcast_start_time'] = df_data['broadcast_start_time'].apply(time_to_num)\n",
    "\n",
    "# df_data= df_data.drop(labels=['id'], axis=1)"
   ]
  },
  {
   "cell_type": "code",
   "execution_count": 5,
   "id": "f171eff4-1a8e-4cff-b584-91fb5030b821",
   "metadata": {},
   "outputs": [
    {
     "data": {
      "text/plain": [
       "45"
      ]
     },
     "execution_count": 5,
     "metadata": {},
     "output_type": "execute_result"
    }
   ],
   "source": [
    "df_data = pd.read_csv('new_test_animes_data.csv')\n",
    "df_data = df_data.fillna(0)\n",
    "len(df_data.columns)"
   ]
  },
  {
   "cell_type": "code",
   "execution_count": 6,
   "id": "e66ebeb1-16af-4d04-b721-8a181bab91f4",
   "metadata": {},
   "outputs": [],
   "source": [
    "df_old = pd.read_csv('test_data')\n",
    "for column in df_old.columns:\n",
    "    if column not in df_data.columns:\n",
    "        df_data[column] = 0"
   ]
  },
  {
   "cell_type": "code",
   "execution_count": 9,
   "id": "7ae47753-cfad-4aa4-bc21-5cae6c2cc6c4",
   "metadata": {},
   "outputs": [],
   "source": [
    "df_data = df_data.fillna(0)\n",
    "\n",
    "keep = ['popularity', 'broadcast_day_of_the_week', 'average_episode_duration', 'broadcast_start_time']\n",
    "for d in df_data.columns:\n",
    "    if 'id' in d:\n",
    "        keep.append(d)\n",
    "\n",
    "df_data = df_data[keep]\n",
    "df_data= df_data.drop(labels=['id'], axis=1)"
   ]
  },
  {
   "cell_type": "code",
   "execution_count": 10,
   "id": "a1d7c998-7ee7-44f5-85a2-5aac0c94f0d5",
   "metadata": {},
   "outputs": [
    {
     "data": {
      "text/plain": [
       "Index(['Unnamed: 0', 'popularity', 'broadcast_day_of_the_week',\n",
       "       'average_episode_duration', 'broadcast_start_time', 'genres_0_id',\n",
       "       'genres_1_id', 'genres_2_id', 'genres_3_id', 'genres_4_id',\n",
       "       'genres_5_id', 'genres_6_id', 'genres_7_id', 'studios_0_id',\n",
       "       'studios_1_id', 'studios_2_id', 'genres_8_id', 'genres_9_id',\n",
       "       'genres_10_id', 'studios_3_id', 'studios_4_id', 'studios_5_id'],\n",
       "      dtype='object')"
      ]
     },
     "execution_count": 10,
     "metadata": {},
     "output_type": "execute_result"
    }
   ],
   "source": [
    "df_old.columns"
   ]
  },
  {
   "cell_type": "code",
   "execution_count": 11,
   "id": "b53d5e53-9d46-468a-9bbf-22740a78890f",
   "metadata": {},
   "outputs": [
    {
     "data": {
      "text/plain": [
       "Index(['popularity', 'broadcast_day_of_the_week', 'average_episode_duration',\n",
       "       'broadcast_start_time', 'genres_0_id', 'genres_1_id', 'genres_2_id',\n",
       "       'genres_3_id', 'studios_0_id', 'genres_4_id', 'genres_5_id',\n",
       "       'genres_6_id', 'genres_7_id', 'studios_1_id', 'studios_2_id',\n",
       "       'genres_8_id', 'genres_9_id', 'genres_10_id', 'studios_3_id',\n",
       "       'studios_4_id', 'studios_5_id'],\n",
       "      dtype='object')"
      ]
     },
     "execution_count": 11,
     "metadata": {},
     "output_type": "execute_result"
    }
   ],
   "source": [
    "df_data.columns"
   ]
  },
  {
   "cell_type": "code",
   "execution_count": 27,
   "id": "a5cef58c-0af8-4dda-a8dd-ed6d3f25cbe2",
   "metadata": {},
   "outputs": [
    {
     "data": {
      "text/plain": [
       "Index(['popularity', 'broadcast_day_of_the_week', 'average_episode_duration',\n",
       "       'broadcast_start_time', 'genres_0_id', 'genres_1_id', 'genres_2_id',\n",
       "       'genres_3_id', 'genres_4_id', 'genres_5_id', 'genres_6_id',\n",
       "       'genres_7_id', 'studios_0_id', 'studios_1_id', 'studios_2_id',\n",
       "       'genres_8_id', 'genres_9_id', 'genres_10_id', 'studios_3_id',\n",
       "       'studios_4_id', 'studios_5_id'],\n",
       "      dtype='object')"
      ]
     },
     "execution_count": 27,
     "metadata": {},
     "output_type": "execute_result"
    }
   ],
   "source": [
    "col_list = df_old.columns.to_list()[1:]\n",
    "# df_data['Unnamed: 0'] = np.arange(len(df_data))\n",
    "df_data = df_data[col_list]\n",
    "df_data.columns"
   ]
  },
  {
   "cell_type": "code",
   "execution_count": 26,
   "id": "0bb7bc1b-c9c4-4d34-bab9-d8fd1774b801",
   "metadata": {},
   "outputs": [
    {
     "data": {
      "text/plain": [
       "22"
      ]
     },
     "execution_count": 26,
     "metadata": {},
     "output_type": "execute_result"
    }
   ],
   "source": [
    "len(df_data.columns)"
   ]
  },
  {
   "cell_type": "code",
   "execution_count": 29,
   "id": "bd5ccc9c-a40e-4c01-961a-e053915ae57e",
   "metadata": {},
   "outputs": [],
   "source": [
    "df_data.to_csv('new_test_data')"
   ]
  },
  {
   "cell_type": "code",
   "execution_count": 28,
   "id": "4859d256-cfc3-41c8-8a8e-0088627852d7",
   "metadata": {},
   "outputs": [
    {
     "name": "stdout",
     "output_type": "stream",
     "text": [
      "popularity int64\n",
      "broadcast_day_of_the_week int64\n",
      "average_episode_duration int64\n",
      "broadcast_start_time float64\n",
      "genres_0_id int64\n",
      "genres_1_id float64\n",
      "genres_2_id float64\n",
      "genres_3_id float64\n",
      "genres_4_id float64\n",
      "genres_5_id float64\n",
      "genres_6_id float64\n",
      "genres_7_id float64\n",
      "studios_0_id int64\n",
      "studios_1_id float64\n",
      "studios_2_id float64\n",
      "genres_8_id int64\n",
      "genres_9_id int64\n",
      "genres_10_id int64\n",
      "studios_3_id int64\n",
      "studios_4_id int64\n",
      "studios_5_id int64\n"
     ]
    }
   ],
   "source": [
    "for d in df_data.columns:\n",
    "    print(d, df_data[d].dtype)"
   ]
  },
  {
   "cell_type": "code",
   "execution_count": 30,
   "id": "51098753-43dc-4f73-9c1e-0a5f8b03dc77",
   "metadata": {},
   "outputs": [
    {
     "name": "stderr",
     "output_type": "stream",
     "text": [
      "/home/compute/APS-360/ann/ann.py:54: FutureWarning: Series.__getitem__ treating keys as positions is deprecated. In a future version, integer keys will always be treated as labels (consistent with DataFrame behavior). To access a value by position, use `ser.iloc[pos]`\n",
      "  data = torch.tensor(row[2:]).float()\n"
     ]
    },
    {
     "data": {
      "text/plain": [
       "0.259762165505682"
      ]
     },
     "execution_count": 30,
     "metadata": {},
     "output_type": "execute_result"
    }
   ],
   "source": [
    "test = get_data_loaders('new_test_data', 64)\n",
    "evaluate.evaluate(model, test)"
   ]
  },
  {
   "cell_type": "code",
   "execution_count": null,
   "id": "25c5625a-6480-4b14-841f-2ac81ffa7e7c",
   "metadata": {},
   "outputs": [],
   "source": []
  }
 ],
 "metadata": {
  "kernelspec": {
   "display_name": "Python 3 (ipykernel)",
   "language": "python",
   "name": "python3"
  },
  "language_info": {
   "codemirror_mode": {
    "name": "ipython",
    "version": 3
   },
   "file_extension": ".py",
   "mimetype": "text/x-python",
   "name": "python",
   "nbconvert_exporter": "python",
   "pygments_lexer": "ipython3",
   "version": "3.10.13"
  }
 },
 "nbformat": 4,
 "nbformat_minor": 5
}
