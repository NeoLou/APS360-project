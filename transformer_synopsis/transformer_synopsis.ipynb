{
 "cells": [
  {
   "cell_type": "code",
   "execution_count": 252,
   "id": "8e410722-b660-4333-92e1-87b2ba2c4968",
   "metadata": {},
   "outputs": [],
   "source": [
    "import sys\n",
    "import os\n",
    "\n",
    "SCRIPT_DIR = \"c:/Users/Luke Yang/Documents/100_Luke/100_School/130_University_of_Toronto/2023_2024/APS360/Anime-popularity-predictor/transformer_synopsis\"\n",
    "sys.path.append(os.path.dirname(SCRIPT_DIR))\n",
    "\n",
    "import torch\n",
    "import torch.nn as nn\n",
    "import pandas as pd\n",
    "from common import model\n",
    "from common import evaluate\n",
    "from torch.utils.data import Dataset, DataLoader\n",
    "from torchvision import transforms\n",
    "\n",
    "import transformer_synopsis_model\n",
    "from transformer_synopsis_model import *"
   ]
  },
  {
   "cell_type": "code",
   "execution_count": 262,
   "metadata": {},
   "outputs": [
    {
     "ename": "AttributeError",
     "evalue": "__enter__",
     "output_type": "error",
     "traceback": [
      "\u001b[1;31m---------------------------------------------------------------------------\u001b[0m",
      "\u001b[1;31mAttributeError\u001b[0m                            Traceback (most recent call last)",
      "\u001b[1;32m<ipython-input-262-34700671635b>\u001b[0m in \u001b[0;36m<module>\u001b[1;34m\u001b[0m\n\u001b[1;32m----> 1\u001b[1;33m \u001b[1;32mwith\u001b[0m \u001b[0mtorch\u001b[0m\u001b[1;33m.\u001b[0m\u001b[0mdevice\u001b[0m\u001b[1;33m(\u001b[0m\u001b[1;34m'cuda'\u001b[0m\u001b[1;33m)\u001b[0m\u001b[1;33m:\u001b[0m\u001b[1;33m\u001b[0m\u001b[1;33m\u001b[0m\u001b[0m\n\u001b[0m\u001b[0;32m      2\u001b[0m     \u001b[0mt\u001b[0m \u001b[1;33m=\u001b[0m \u001b[0mtorch\u001b[0m\u001b[1;33m.\u001b[0m\u001b[0mtensor\u001b[0m\u001b[1;33m(\u001b[0m\u001b[1;33m[\u001b[0m\u001b[1;36m1.2\u001b[0m\u001b[1;33m,\u001b[0m \u001b[1;36m3.4\u001b[0m\u001b[1;33m]\u001b[0m\u001b[1;33m)\u001b[0m\u001b[1;33m\u001b[0m\u001b[1;33m\u001b[0m\u001b[0m\n",
      "\u001b[1;31mAttributeError\u001b[0m: __enter__"
     ]
    }
   ],
   "source": [
    "with torch.device('cuda:0'):\n",
    "    t = torch.tensor([1.2, 3.4])"
   ]
  },
  {
   "cell_type": "code",
   "execution_count": 254,
   "metadata": {},
   "outputs": [],
   "source": [
    "batch_size=64\n",
    "train, val, max_len = get_data_loaders('../data_collection/data/balanced_animes_data_max_rank=5000.csv', batch_size)"
   ]
  },
  {
   "cell_type": "code",
   "execution_count": 255,
   "metadata": {},
   "outputs": [
    {
     "name": "stdout",
     "output_type": "stream",
     "text": [
      "torch.Size([64, 300, 338])\n",
      "64\n"
     ]
    }
   ],
   "source": [
    "for batch in train:\n",
    "    print(batch[0].shape)\n",
    "    print(len(batch[1]))\n",
    "    break"
   ]
  },
  {
   "cell_type": "code",
   "execution_count": 256,
   "id": "321cf511-0ad0-4e42-96d6-a35fb3c82b41",
   "metadata": {
    "scrolled": true
   },
   "outputs": [],
   "source": [
    "lr=0.01\n",
    "num_epochs=100\n",
    "input_size=max_len\n",
    "hidden_size=128\n",
    "num_class=1\n",
    "\n",
    "ex = SynopsisTransformer('MySynTrans', batch_size, lr, num_epochs, input_size, hidden_size, num_class)"
   ]
  },
  {
   "cell_type": "code",
   "execution_count": 257,
   "id": "5994cc90-199f-4dc7-8ea5-ccbb5eb50217",
   "metadata": {},
   "outputs": [
    {
     "data": {
      "text/plain": [
       "'training/MySynTrans_64_0.01_100_100'"
      ]
     },
     "execution_count": 257,
     "metadata": {},
     "output_type": "execute_result"
    }
   ],
   "source": [
    "ex.str(100)"
   ]
  },
  {
   "cell_type": "code",
   "execution_count": 266,
   "id": "16b5a4b0-870b-46f4-9e05-3f5db1000067",
   "metadata": {},
   "outputs": [
    {
     "name": "stderr",
     "output_type": "stream",
     "text": [
      "c:\\Users\\Luke Yang\\anaconda3\\lib\\site-packages\\torch\\nn\\modules\\loss.py:528: UserWarning: Using a target size (torch.Size([28])) that is different to the input size (torch.Size([28, 300, 1])). This will likely lead to incorrect results due to broadcasting. Please ensure they have the same size.\n",
      "  return F.mse_loss(input, target, reduction=self.reduction)\n",
      "c:\\Users\\Luke Yang\\anaconda3\\lib\\site-packages\\torch\\nn\\modules\\loss.py:528: UserWarning: Using a target size (torch.Size([39])) that is different to the input size (torch.Size([39, 300, 1])). This will likely lead to incorrect results due to broadcasting. Please ensure they have the same size.\n",
      "  return F.mse_loss(input, target, reduction=self.reduction)\n"
     ]
    }
   ],
   "source": [
    "model.train_model(ex.cuda(), train, val)"
   ]
  },
  {
   "cell_type": "code",
   "execution_count": null,
   "id": "9536d3a2-81f0-4dd8-9abc-bd3625275114",
   "metadata": {},
   "outputs": [],
   "source": []
  }
 ],
 "metadata": {
  "kernelspec": {
   "display_name": "Python 3 (ipykernel)",
   "language": "python",
   "name": "python3"
  },
  "language_info": {
   "codemirror_mode": {
    "name": "ipython",
    "version": 3
   },
   "file_extension": ".py",
   "mimetype": "text/x-python",
   "name": "python",
   "nbconvert_exporter": "python",
   "pygments_lexer": "ipython3",
   "version": "3.8.3"
  }
 },
 "nbformat": 4,
 "nbformat_minor": 5
}
