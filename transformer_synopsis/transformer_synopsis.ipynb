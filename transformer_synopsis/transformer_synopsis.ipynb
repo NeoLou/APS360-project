{
 "cells": [
  {
   "cell_type": "code",
   "execution_count": 2,
   "id": "8e410722-b660-4333-92e1-87b2ba2c4968",
   "metadata": {},
   "outputs": [],
   "source": [
    "import sys\n",
    "import os\n",
    "\n",
    "SCRIPT_DIR = \"c:/Users/Luke Yang/Documents/100_Luke/100_School/130_University_of_Toronto/2023_2024/APS360/Anime-popularity-predictor/transformer_synopsis\"\n",
    "sys.path.append(os.path.dirname(SCRIPT_DIR))\n",
    "\n",
    "import torch\n",
    "import torch.nn as nn\n",
    "import pandas as pd\n",
    "from common import model\n",
    "from common import evaluate\n",
    "from torch.utils.data import Dataset, DataLoader\n",
    "from torchvision import transforms\n",
    "\n",
    "import transformer_synopsis_model\n",
    "from transformer_synopsis_model import *"
   ]
  },
  {
   "cell_type": "code",
   "execution_count": null,
   "metadata": {},
   "outputs": [],
   "source": [
    "with torch.device('cuda:0'):\n",
    "    t = torch.tensor([1.2, 3.4])"
   ]
  },
  {
   "cell_type": "code",
   "execution_count": null,
   "metadata": {},
   "outputs": [],
   "source": [
    "batch_size=64\n",
    "train, val, max_len = get_data_loaders('../data_collection/data/balanced_animes_data_max_rank=5000.csv', batch_size)"
   ]
  },
  {
   "cell_type": "code",
   "execution_count": null,
   "metadata": {},
   "outputs": [],
   "source": [
    "for batch in train:\n",
    "    print(batch[0].shape)\n",
    "    print(len(batch[1]))\n",
    "    break"
   ]
  },
  {
   "cell_type": "code",
   "execution_count": null,
   "id": "321cf511-0ad0-4e42-96d6-a35fb3c82b41",
   "metadata": {
    "scrolled": true
   },
   "outputs": [],
   "source": [
    "lr=0.01\n",
    "num_epochs=100\n",
    "input_size=max_len\n",
    "hidden_size=128\n",
    "num_class=1\n",
    "\n",
    "ex = SynopsisTransformer('MySynTrans', batch_size, lr, num_epochs, input_size, hidden_size, num_class)"
   ]
  },
  {
   "cell_type": "code",
   "execution_count": null,
   "id": "5994cc90-199f-4dc7-8ea5-ccbb5eb50217",
   "metadata": {},
   "outputs": [],
   "source": [
    "ex.str(100)"
   ]
  },
  {
   "cell_type": "code",
   "execution_count": null,
   "id": "16b5a4b0-870b-46f4-9e05-3f5db1000067",
   "metadata": {},
   "outputs": [],
   "source": [
    "model.train_model(ex.cuda(), train, val)"
   ]
  },
  {
   "cell_type": "code",
   "execution_count": null,
   "id": "9536d3a2-81f0-4dd8-9abc-bd3625275114",
   "metadata": {},
   "outputs": [],
   "source": []
  }
 ],
 "metadata": {
  "kernelspec": {
   "display_name": "Python 3 (ipykernel)",
   "language": "python",
   "name": "python3"
  },
  "language_info": {
   "codemirror_mode": {
    "name": "ipython",
    "version": 3
   },
   "file_extension": ".py",
   "mimetype": "text/x-python",
   "name": "python",
   "nbconvert_exporter": "python",
   "pygments_lexer": "ipython3",
   "version": "3.8.3"
  }
 },
 "nbformat": 4,
 "nbformat_minor": 5
}
