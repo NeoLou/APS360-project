{
 "cells": [
  {
   "cell_type": "code",
   "execution_count": 1,
   "id": "71441a29-09c0-4035-a1dd-2c66a3870fc3",
   "metadata": {},
   "outputs": [
    {
     "name": "stdout",
     "output_type": "stream",
     "text": [
      "/home/compute/APS-360\n"
     ]
    }
   ],
   "source": [
    "cd .."
   ]
  },
  {
   "cell_type": "code",
   "execution_count": 3,
   "id": "780603c5-d5ac-4b0f-a4fe-b7527553daa1",
   "metadata": {},
   "outputs": [],
   "source": [
    "import torch\n",
    "import torch.nn as nn\n",
    "import pandas as pd\n",
    "from common import model\n",
    "from common import evaluate\n",
    "from torch.utils.data import Dataset, DataLoader\n",
    "\n",
    "from transformer_images import *"
   ]
  },
  {
   "cell_type": "code",
   "execution_count": 3,
   "id": "e80054aa-aca9-4c1c-97cb-c775b1012c92",
   "metadata": {},
   "outputs": [],
   "source": [
    "acc = []"
   ]
  },
  {
   "cell_type": "code",
   "execution_count": 4,
   "id": "3eb400d4-eeaf-47ec-8b06-2913c3e00e96",
   "metadata": {},
   "outputs": [
    {
     "name": "stdout",
     "output_type": "stream",
     "text": [
      "tensor([0.5723, 0.4043, 0.9858, 0.8226, 0.1634, 0.5197, 0.1868, 0.3965, 0.8844,\n",
      "        0.0742], device='cuda:0')\n"
     ]
    }
   ],
   "source": [
    "train, val = get_data_loaders(10)\n",
    "for t in train:\n",
    "    print(t[1])\n",
    "    break"
   ]
  },
  {
   "cell_type": "markdown",
   "id": "63589c09-5ef3-4353-8c23-359e1f143e3f",
   "metadata": {},
   "source": [
    "## Vary batch size"
   ]
  },
  {
   "cell_type": "code",
   "execution_count": 5,
   "id": "2cb14a50-bfd6-4dc7-ae0e-51c54ff3e34e",
   "metadata": {},
   "outputs": [],
   "source": [
    "for b in [32, 64, 128]:\n",
    "    VIT = ImageTransformer('VITb', b, 0.01, 100, 16, 10, 1, 5)\n",
    "    VIT.to('cuda')\n",
    "    train, val = get_data_loaders(VIT.batch_size)\n",
    "    model.train_model(VIT, train, val)"
   ]
  },
  {
   "cell_type": "markdown",
   "id": "02a3bfbd-d29c-4634-86d8-9c1cd05446f2",
   "metadata": {},
   "source": [
    "## Vary lr"
   ]
  },
  {
   "cell_type": "code",
   "execution_count": 6,
   "id": "5e1384ce-6cb9-4418-a16d-1319d43913e6",
   "metadata": {},
   "outputs": [],
   "source": [
    "for lr in [0.01, 0.05, 0.1]:\n",
    "    VIT = ImageTransformer('VITlr', 64, lr, 100, 16, 10, 1, 5)\n",
    "    VIT.to('cuda')\n",
    "    train, val = get_data_loaders(VIT.batch_size)\n",
    "    model.train_model(VIT, train, val)"
   ]
  },
  {
   "cell_type": "markdown",
   "id": "d60f14f4-e1ff-47e2-83c3-201481bb4f98",
   "metadata": {},
   "source": [
    "## Vary number of patches"
   ]
  },
  {
   "cell_type": "code",
   "execution_count": 5,
   "id": "2cdfb085-1fac-4fb6-ad92-8ef48ae77706",
   "metadata": {},
   "outputs": [],
   "source": [
    "for n in [16]:\n",
    "    VIT = ImageTransformer('VITp', 64, 0.01, 100, n, 10, 1, 5)\n",
    "    VIT.to('cuda')\n",
    "    train, val = get_data_loaders(VIT.batch_size)\n",
    "    model.train_model(VIT, train, val)"
   ]
  },
  {
   "cell_type": "markdown",
   "id": "40fff88f-f22a-4975-b286-d47e394720ca",
   "metadata": {},
   "source": [
    "## Vary hidden dimension size\n",
    "\n",
    "also vary number of multi-headded attention heads (hidden dim size needs to be a multiple of it)"
   ]
  },
  {
   "cell_type": "code",
   "execution_count": 6,
   "id": "2f06e533-ef2a-45b6-b9c2-c78c3726e2ce",
   "metadata": {},
   "outputs": [],
   "source": [
    "for d in [8, 64, 128]:\n",
    "    VIT = ImageTransformer('VITh', 64, 0.01, 100, 16, d, 1, d//2)\n",
    "    VIT.to('cuda')\n",
    "    train, val = get_data_loaders(VIT.batch_size)\n",
    "    model.train_model(VIT, train, val)"
   ]
  },
  {
   "cell_type": "markdown",
   "id": "f0618897-6249-45d8-9caf-89bf6c2aae76",
   "metadata": {},
   "source": [
    "## Vary number of transformer layers"
   ]
  },
  {
   "cell_type": "code",
   "execution_count": null,
   "id": "7b98e1d5-6dfa-45af-8118-69927ceb2e79",
   "metadata": {},
   "outputs": [],
   "source": [
    "for n in [1, 4, 16]:\n",
    "    VIT = ImageTransformer('VITt', 64, 0.01, 100, 16, 10, n, 5)\n",
    "    VIT.to('cuda')\n",
    "    train, val = get_data_loaders(VIT.batch_size)\n",
    "    model.train_model(VIT, train, val)"
   ]
  },
  {
   "cell_type": "code",
   "execution_count": 4,
   "id": "79335a1f-e8e7-4497-9e5c-1399836c6972",
   "metadata": {},
   "outputs": [
    {
     "name": "stdout",
     "output_type": "stream",
     "text": [
      "[0.2832441561378733, 49, 'training/VITh_64_0.01_100_16_8_4_1_99_val_loss.csv']\n"
     ]
    },
    {
     "data": {
      "text/plain": [
       "[0.2832441561378733, 49, 'training/VITh_64_0.01_100_16_8_4_1_99_val_loss.csv']"
      ]
     },
     "execution_count": 4,
     "metadata": {},
     "output_type": "execute_result"
    }
   ],
   "source": [
    "evaluate.get_best_loss('VIT')"
   ]
  }
 ],
 "metadata": {
  "kernelspec": {
   "display_name": "Python 3 (ipykernel)",
   "language": "python",
   "name": "python3"
  },
  "language_info": {
   "codemirror_mode": {
    "name": "ipython",
    "version": 3
   },
   "file_extension": ".py",
   "mimetype": "text/x-python",
   "name": "python",
   "nbconvert_exporter": "python",
   "pygments_lexer": "ipython3",
   "version": "3.10.13"
  }
 },
 "nbformat": 4,
 "nbformat_minor": 5
}
