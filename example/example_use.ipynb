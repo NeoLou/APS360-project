{
 "cells": [
  {
   "cell_type": "code",
   "execution_count": 1,
   "id": "8e410722-b660-4333-92e1-87b2ba2c4968",
   "metadata": {},
   "outputs": [],
   "source": [
    "import torch\n",
    "import torch.nn as nn\n",
    "import pandas as pd\n",
    "from common import model\n",
    "from common import evaluate\n",
    "from torch.utils.data import Dataset, DataLoader\n",
    "from torchvision import transforms\n",
    "\n",
    "from example.example_model import *"
   ]
  },
  {
   "cell_type": "code",
   "execution_count": 2,
   "id": "321cf511-0ad0-4e42-96d6-a35fb3c82b41",
   "metadata": {
    "scrolled": true
   },
   "outputs": [],
   "source": [
    "ex = Example('example', 64, 0.01, 100)"
   ]
  },
  {
   "cell_type": "code",
   "execution_count": 3,
   "id": "5994cc90-199f-4dc7-8ea5-ccbb5eb50217",
   "metadata": {},
   "outputs": [
    {
     "data": {
      "text/plain": [
       "'training/example_64_0.01_100_100'"
      ]
     },
     "execution_count": 3,
     "metadata": {},
     "output_type": "execute_result"
    }
   ],
   "source": [
    "ex.str(100)"
   ]
  },
  {
   "cell_type": "code",
   "execution_count": 4,
   "id": "d3bc412b-6a64-4c9c-8697-418a2bf2949e",
   "metadata": {
    "scrolled": true
   },
   "outputs": [
    {
     "name": "stderr",
     "output_type": "stream",
     "text": [
      "/Users/adil.quettawala/Documents/APS360/Project/APS360-project/example/example_model.py:38: SettingWithCopyWarning: \n",
      "A value is trying to be set on a copy of a slice from a DataFrame.\n",
      "Try using .loc[row_indexer,col_indexer] = value instead\n",
      "\n",
      "See the caveats in the documentation: https://pandas.pydata.org/pandas-docs/stable/user_guide/indexing.html#returning-a-view-versus-a-copy\n",
      "  df[column] = (df[column] - df[column].min()) / (df[column].max() - df[column].min())\n",
      "/Users/adil.quettawala/Documents/APS360/Project/APS360-project/example/example_model.py:38: SettingWithCopyWarning: \n",
      "A value is trying to be set on a copy of a slice from a DataFrame.\n",
      "Try using .loc[row_indexer,col_indexer] = value instead\n",
      "\n",
      "See the caveats in the documentation: https://pandas.pydata.org/pandas-docs/stable/user_guide/indexing.html#returning-a-view-versus-a-copy\n",
      "  df[column] = (df[column] - df[column].min()) / (df[column].max() - df[column].min())\n",
      "/Users/adil.quettawala/Documents/APS360/Project/APS360-project/example/example_model.py:38: SettingWithCopyWarning: \n",
      "A value is trying to be set on a copy of a slice from a DataFrame.\n",
      "Try using .loc[row_indexer,col_indexer] = value instead\n",
      "\n",
      "See the caveats in the documentation: https://pandas.pydata.org/pandas-docs/stable/user_guide/indexing.html#returning-a-view-versus-a-copy\n",
      "  df[column] = (df[column] - df[column].min()) / (df[column].max() - df[column].min())\n",
      "/Users/adil.quettawala/Documents/APS360/Project/APS360-project/example/example_model.py:38: SettingWithCopyWarning: \n",
      "A value is trying to be set on a copy of a slice from a DataFrame.\n",
      "Try using .loc[row_indexer,col_indexer] = value instead\n",
      "\n",
      "See the caveats in the documentation: https://pandas.pydata.org/pandas-docs/stable/user_guide/indexing.html#returning-a-view-versus-a-copy\n",
      "  df[column] = (df[column] - df[column].min()) / (df[column].max() - df[column].min())\n",
      "/Users/adil.quettawala/Documents/APS360/Project/APS360-project/example/example_model.py:38: SettingWithCopyWarning: \n",
      "A value is trying to be set on a copy of a slice from a DataFrame.\n",
      "Try using .loc[row_indexer,col_indexer] = value instead\n",
      "\n",
      "See the caveats in the documentation: https://pandas.pydata.org/pandas-docs/stable/user_guide/indexing.html#returning-a-view-versus-a-copy\n",
      "  df[column] = (df[column] - df[column].min()) / (df[column].max() - df[column].min())\n"
     ]
    }
   ],
   "source": [
    "train, val = get_data_loaders('data_collection/data/animes_data_limit=500_total=5000_by_popularity.csv')"
   ]
  },
  {
   "cell_type": "code",
   "execution_count": 5,
   "id": "16b5a4b0-870b-46f4-9e05-3f5db1000067",
   "metadata": {},
   "outputs": [
    {
     "name": "stderr",
     "output_type": "stream",
     "text": [
      "/Users/adil.quettawala/Documents/APS360/Project/APS360-project/example/example_model.py:31: FutureWarning: Series.__getitem__ treating keys as positions is deprecated. In a future version, integer keys will always be treated as labels (consistent with DataFrame behavior). To access a value by position, use `ser.iloc[pos]`\n",
      "  data = torch.tensor(row[1:]).float()\n",
      "/Users/adil.quettawala/.virtualenvs/aps360/lib/python3.9/site-packages/torch/nn/modules/loss.py:536: UserWarning: Using a target size (torch.Size([32])) that is different to the input size (torch.Size([32, 1])). This will likely lead to incorrect results due to broadcasting. Please ensure they have the same size.\n",
      "  return F.mse_loss(input, target, reduction=self.reduction)\n",
      "/Users/adil.quettawala/.virtualenvs/aps360/lib/python3.9/site-packages/torch/nn/modules/loss.py:536: UserWarning: Using a target size (torch.Size([25])) that is different to the input size (torch.Size([25, 1])). This will likely lead to incorrect results due to broadcasting. Please ensure they have the same size.\n",
      "  return F.mse_loss(input, target, reduction=self.reduction)\n",
      "/Users/adil.quettawala/.virtualenvs/aps360/lib/python3.9/site-packages/torch/nn/modules/loss.py:536: UserWarning: Using a target size (torch.Size([31])) that is different to the input size (torch.Size([31, 1])). This will likely lead to incorrect results due to broadcasting. Please ensure they have the same size.\n",
      "  return F.mse_loss(input, target, reduction=self.reduction)\n"
     ]
    }
   ],
   "source": [
    "model.train_model(ex, train, val)"
   ]
  },
  {
   "cell_type": "code",
   "execution_count": null,
   "id": "9536d3a2-81f0-4dd8-9abc-bd3625275114",
   "metadata": {},
   "outputs": [],
   "source": []
  }
 ],
 "metadata": {
  "kernelspec": {
   "display_name": "Python 3 (ipykernel)",
   "language": "python",
   "name": "python3"
  },
  "language_info": {
   "codemirror_mode": {
    "name": "ipython",
    "version": 3
   },
   "file_extension": ".py",
   "mimetype": "text/x-python",
   "name": "python",
   "nbconvert_exporter": "python",
   "pygments_lexer": "ipython3",
   "version": "3.8.3"
  }
 },
 "nbformat": 4,
 "nbformat_minor": 5
}
